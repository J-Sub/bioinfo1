{
 "cells": [
  {
   "cell_type": "markdown",
   "metadata": {
    "id": "_SmTogjeMD47"
   },
   "source": [
    "# 생물정보학 및 실습 1 - Term Project용 환경 셋업\n",
    "\n",
    "```\n",
    "생물정보학 및 실습 1\n",
    "서울대학교 생물정보학전공/생명과학부 2023년 1학기\n",
    "\n",
    "이 노트북은 Creative Commons BY-SA 조건으로 재사용 가능합니다.\n",
    "장혜식 <hyeshik@snu.ac.kr>, 서울대학교 생명과학부\n",
    "```\n",
    "\n",
    "이 노트북은 Google Colab을 이용해서 Term Project를 할 수 있도록 환경을 준비해 줍니다. 터미널 사용이 원활하지 않은 상태이고, 데이터를 오랫동안 보관하기 어렵기 때문에 되도록 개인용 컴퓨터에서 [Anaconda](https://www.anaconda.com/)나 [JupyterLab](https://jupyterlab.readthedocs.io/en/stable/) 등을 설치하고 사용하시는 것이 편하지만, 개인용 컴퓨터 사양이 부족한 경우에는 Google CoLab을 사용할 수도 있습니다. 개인용 컴퓨터를 쓸 때는 Windows에서는 [WSL2](https://docs.microsoft.com/en-us/windows/wsl/install-win10)를 쓰시면 리눅스 커맨드라인 환경을 쓸 수 있습니다. Google Colab은 창을 닫은 후 90분 후, 또는 창을 처음 열고 12시간 후에 환경을 닫아버리기 때문에 매번 실습할 때마다 새로 셋업이 필요합니다. `Runtime->Run All`을 실행해서 전체를 한 번 실행하시면 준비됩니다. 모든 것이 잘 안 되고 뭔가 꼬인 느낌이 강하게 들 때는 `Runtime->Factory reset runtime`을 누르고 새로 시작하시면 될 수도 있습니다.\n"
   ]
  },
  {
   "cell_type": "markdown",
   "metadata": {
    "id": "zGYjheLcRJS0"
   },
   "source": [
    "## Google Drive 마운트\n",
    "\n",
    "데이터 파일들을 불러오고 저장하기 위해서 Google Drive를 연결합니다. **이번엔 스크립트 파일을 편집해야 하기 때문에 Google Drive 마운트를 하지 않으면 vim등 콘솔에서 쓸 수 있는 에디터를 쓰셔야 합니다.** 화면에 나오는 주소를 눌러서 인증하고 인증 코드를 그 아래에 입력하세요. 그러면 `/contents/drive/MyDrive`에서 자신의 Drive 최상단 폴더가 보입니다. Google CoLab에서 접속하지 않고, 본인 컴퓨터 또는 연구실 워크스테이션 등 다른 컴퓨터를 쓰시는 경우에는 저장공간이 충분하므로 이 부분은 생략하고 지나갑니다."
   ]
  },
  {
   "cell_type": "code",
   "execution_count": 1,
   "metadata": {
    "id": "0HgOxANiRHgl"
   },
   "outputs": [],
   "source": [
    "# from google.colab import drive\n",
    "# drive.mount('/content/drive')"
   ]
  },
  {
   "cell_type": "markdown",
   "metadata": {
    "id": "ra3RB22DWEER"
   },
   "source": [
    "## 실습용 Bioconda 환경 설치하기\n",
    "Google CoLab에서 접속하지 않고, 본인 컴퓨터 또는 연구실 워크스테이션 등 다른 컴퓨터를 쓰시는 경우에는 따로 실습용 [Bioconda](https://bioconda.github.io/) 환경을 구축해서 이 노트북을 그 환경 안에서 띄우시면 됩니다.\n",
    "\n",
    "CoLab을 쓰시는 분들은 다음에 따라서 실습용 프로그램들을 쉽게 설치할 수 있도록 [Bioconda](https://bioconda.github.io/) 환경을 만듭니다. 실행하고 진행상황을 관찰하다가 에러로 보이는 것이 있으면 잘 읽어보고 해결합니다.\n",
    "\n",
    "파이썬 모듈들은 Colab쪽의 파이썬 인터프리터를 바꿀 수 없기 때문에 Conda에 설치하더라도 사용하기 어렵습니다. 파이썬 모듈은 `pip` 명령어로 설치하시면 Colab에서 불러와서 사용할 수 있습니다.\n",
    "\n",
    "환경 초기화에 관련된 스크립트는 [GitHub 프로젝트](https://github.com/hyeshik/colab-biolab)에 있습니다."
   ]
  },
  {
   "cell_type": "code",
   "execution_count": null,
   "metadata": {
    "id": "TTXmNi4hcap3"
   },
   "outputs": [],
   "source": [
    "# !git clone https://github.com/hyeshik/colab-biolab.git\n",
    "# !cd colab-biolab && bash tools/setup.sh\n",
    "# exec(open('colab-biolab/tools/activate_conda.py').read())"
   ]
  },
  {
   "cell_type": "markdown",
   "metadata": {
    "id": "eDfJ0fCzsTTb"
   },
   "source": [
    "요즘은 Google CoLab을 쓰시는 경우에는 무료로 Terminal을 쓸 수 있는 경로가 거의 모두 막혔습니다. 명령 앞에 !을 붙이면 실행할 수 있으니, 노트북 내에서 실행하는 방법을 활용합시다."
   ]
  },
  {
   "cell_type": "markdown",
   "metadata": {
    "id": "J2LqGiP_N26s"
   },
   "source": [
    "## 시퀀싱 데이터 다운로드\n",
    "이제 실습 수업에서 필요한 시퀀싱 데이터를 다운로드 받아서 설치합시다. 드라이브 공간만 충분하면 데이터는 계속 저장돼 있기 때문에 학기 전체를 통해서 딱 한 번만 하시면 됩니다. Colab에서는 작업용 데이터를 Google Drive 폴더 아래의 `binfo-datapack1`에 저장합니다. 실습용 데이터는 `/content/drive/MyDrive/binfo1-datapack1`에 풀리게 됩니다.\n",
    "\n",
    "### (Option 1) Google CoLab에서 접속한 경우\n",
    "1. [Google Drive 공유폴더](https://drive.google.com/drive/folders/1QBJednh-C7A17PFOlpZHBKyDmBvd6klh?usp=sharing)에 접속합니다.\n",
    "1. 중간 제목줄의 \"binfo1-datapack1 ▾\"에서 ▾을 누릅니다.\n",
    "1. Add shortcut to Drive를 누릅니다.\n",
    "1. My Drive를 선택해서 ADD SHORTCUT 버튼을 누릅니다.\n",
    "1. 다음 cell을 실행해서 링크가 제대로 들어왔는지 확인합니다. (바로 확인되지 않으면 3–5분 정도 기다렸다가 하면 됩니다.)\n",
    "1. 제대로 확인되면 다음으로 넘어갑니다.\n"
   ]
  },
  {
   "cell_type": "code",
   "execution_count": null,
   "metadata": {
    "id": "D24wKYriG8tI"
   },
   "outputs": [],
   "source": [
    "!ls -al /content/drive/MyDrive/binfo1-datapack1/"
   ]
  },
  {
   "cell_type": "markdown",
   "metadata": {
    "id": "OZ0KkKrmG-M4"
   },
   "source": [
    "### (Option 2) CoLab외의 다른 환경에서 접속한 경우\n",
    "본인 컴퓨터나 연구실 워크스테이션 등에서 작업하는 경우에는 다음 명령어로 다운로드 받으시면 됩니다. 첫 번째에는 wget이 접속오류를 내는 경우가 많으니, 접속에러가 발생하면 다시 한 번 실행해 보세요. `/content/drive/Mydrive` 부분은 원하는 저장 경로로 바꿔서 지정하시면 됩니다."
   ]
  },
  {
   "cell_type": "code",
   "execution_count": null,
   "metadata": {
    "id": "kIN484e7NSxR"
   },
   "outputs": [],
   "source": [
    "!wget -O - --no-check-certificate https://hyeshik.qbio.io/binfo/binfo1-datapack1.tar | tar -C /content/drive/MyDrive -xf -"
   ]
  },
  {
   "cell_type": "markdown",
   "metadata": {
    "id": "kiQ5y4dTD27M"
   },
   "source": [
    "그리고, GENCODE Annotation 데이터도 미리 받아서 저장해 둡니다. 에러가 나면 다시 한 번 실행해 봅니다."
   ]
  },
  {
   "cell_type": "code",
   "execution_count": null,
   "metadata": {
    "id": "Efdd3x8hDMh4"
   },
   "outputs": [],
   "source": [
    "!wget --no-check-certificate -O /content/drive/MyDrive/binfo1-datapack1/gencode.gtf.gz http://ftp.ebi.ac.uk/pub/databases/gencode/Gencode_mouse/release_M27/gencode.vM27.annotation.gtf.gz"
   ]
  },
  {
   "cell_type": "markdown",
   "metadata": {
    "id": "O3rM9ds6EMhB"
   },
   "source": [
    "다루기 쉽도록 Annotation 압축을 풉니다."
   ]
  },
  {
   "cell_type": "code",
   "execution_count": null,
   "metadata": {
    "id": "KNyuSM6PEQvX"
   },
   "outputs": [],
   "source": [
    "!gunzip /content/drive/MyDrive/binfo1-datapack1/gencode.gtf.gz"
   ]
  },
  {
   "cell_type": "markdown",
   "metadata": {
    "id": "lnlM-S70C-tY"
   },
   "source": [
    "### 파일 체크섬 확인\n",
    "\n",
    "받은 데이터의 MD5 체크섬을 확인합니다. 한참 걸립니다. 각 파일들의 원래 체크섬은 다음과 같습니다. 한 번 비교해 보세요.\n",
    "\n",
    "```\n",
    "140aaf30bcb9276cc716f8699f04ddd6  CLIP-35L33G.bam\n",
    "f1b3336ed7e2f97d562dcc71641251bd  CLIP-35L33G.bam.bai\n",
    "328883a73d507eafbf5b60bd6b906201  RNA-control.bam\n",
    "02073818e2f398a73c3b76e5169de1ca  RNA-control.bam.bai\n",
    "b09550d09d6c2a4ce27f0226f426fdb1  RNA-siLin28a.bam\n",
    "fef112c727244060ea62d3f2564a07f6  RNA-siLin28a.bam.bai\n",
    "28bbd0c47d725669340c784f1b772c01  RNA-siLuc.bam\n",
    "43590fdc4d81905c0432e0d1cb8cfd5b  RNA-siLuc.bam.bai\n",
    "5c08a9297307bc83259e658c4474f0cc  RPF-siLin28a.bam\n",
    "a1bb3e29be412dfd7fd8d16b1b1acc4c  RPF-siLin28a.bam.bai\n",
    "f2eebf50943024d0116c9cd3e744c707  RPF-siLuc.bam\n",
    "dc24f69e8f571fc8be30f28ce5b84fcd  RPF-siLuc.bam.bai\n",
    "```"
   ]
  },
  {
   "cell_type": "code",
   "execution_count": null,
   "metadata": {
    "id": "g8lC_YJRBCPf"
   },
   "outputs": [],
   "source": [
    "!md5sum drive/MyDrive/binfo1-datapack1/*"
   ]
  },
  {
   "cell_type": "code",
   "execution_count": null,
   "metadata": {
    "id": "PVXzIs5FE3Q4"
   },
   "outputs": [],
   "source": [
    "!ls -al drive/MyDrive/binfo*"
   ]
  },
  {
   "cell_type": "markdown",
   "metadata": {
    "id": "ecEA1PPQUlIK"
   },
   "source": [
    "실습에 필요한 프로그램들 몇 가지를 추가로 설치합니다."
   ]
  },
  {
   "cell_type": "code",
   "execution_count": null,
   "metadata": {
    "id": "neteyWsWEKBy"
   },
   "outputs": [],
   "source": [
    "!conda install -y subread"
   ]
  },
  {
   "cell_type": "markdown",
   "metadata": {
    "id": "Oe_54MZrEi4y"
   },
   "source": [
    "## Transcript count table 마련하기\n",
    "\n",
    "제공된 alignment와 annotation 파일들을 이용해서 transcript별 read count를 구해봅니다. 실제 연구에서는 multi-mapping 등을 고려해야 하지만, 여기서는 단순화해서 모두 무시합니다."
   ]
  },
  {
   "cell_type": "markdown",
   "metadata": {
    "id": "rrkL8Zl-s978"
   },
   "source": [
    "먼저 작업 디렉토리를 만들고 데이터를 원본 디렉토리에서 복사해 옵니다."
   ]
  },
  {
   "cell_type": "code",
   "execution_count": null,
   "metadata": {
    "id": "ibYTwDaIon6b"
   },
   "outputs": [],
   "source": [
    "!mkdir /content/drive/MyDrive/binfo1-work\n",
    "%cd /content/drive/MyDrive/binfo1-work\n",
    "!cp ../binfo1-datapack1/*.* ."
   ]
  },
  {
   "cell_type": "code",
   "execution_count": null,
   "metadata": {
    "id": "5OrnDxegFAip"
   },
   "outputs": [],
   "source": [
    "!featureCounts -a gencode.gtf -o read-counts.txt *.bam "
   ]
  },
  {
   "cell_type": "markdown",
   "metadata": {
    "id": "b2yJztZvGl9Q"
   },
   "source": [
    "결과를 pandas로 읽어와 봅니다."
   ]
  },
  {
   "cell_type": "code",
   "execution_count": 17,
   "metadata": {
    "id": "BMyNT3ARFAWi"
   },
   "outputs": [
    {
     "data": {
      "text/html": [
       "<div>\n",
       "<style scoped>\n",
       "    .dataframe tbody tr th:only-of-type {\n",
       "        vertical-align: middle;\n",
       "    }\n",
       "\n",
       "    .dataframe tbody tr th {\n",
       "        vertical-align: top;\n",
       "    }\n",
       "\n",
       "    .dataframe thead th {\n",
       "        text-align: right;\n",
       "    }\n",
       "</style>\n",
       "<table border=\"1\" class=\"dataframe\">\n",
       "  <thead>\n",
       "    <tr style=\"text-align: right;\">\n",
       "      <th></th>\n",
       "      <th>Chr</th>\n",
       "      <th>Start</th>\n",
       "      <th>End</th>\n",
       "      <th>Strand</th>\n",
       "      <th>Length</th>\n",
       "      <th>CLIP-35L33G.bam</th>\n",
       "      <th>RNA-control.bam</th>\n",
       "      <th>RNA-siLin28a.bam</th>\n",
       "      <th>RNA-siLuc.bam</th>\n",
       "      <th>RPF-siLin28a.bam</th>\n",
       "      <th>RPF-siLuc.bam</th>\n",
       "    </tr>\n",
       "    <tr>\n",
       "      <th>Geneid</th>\n",
       "      <th></th>\n",
       "      <th></th>\n",
       "      <th></th>\n",
       "      <th></th>\n",
       "      <th></th>\n",
       "      <th></th>\n",
       "      <th></th>\n",
       "      <th></th>\n",
       "      <th></th>\n",
       "      <th></th>\n",
       "      <th></th>\n",
       "    </tr>\n",
       "  </thead>\n",
       "  <tbody>\n",
       "    <tr>\n",
       "      <th>ENSMUSG00000102693.2</th>\n",
       "      <td>chr1</td>\n",
       "      <td>3143476</td>\n",
       "      <td>3144545</td>\n",
       "      <td>+</td>\n",
       "      <td>1070</td>\n",
       "      <td>0</td>\n",
       "      <td>0</td>\n",
       "      <td>0</td>\n",
       "      <td>0</td>\n",
       "      <td>0</td>\n",
       "      <td>0</td>\n",
       "    </tr>\n",
       "    <tr>\n",
       "      <th>ENSMUSG00000064842.3</th>\n",
       "      <td>chr1</td>\n",
       "      <td>3172239</td>\n",
       "      <td>3172348</td>\n",
       "      <td>+</td>\n",
       "      <td>110</td>\n",
       "      <td>0</td>\n",
       "      <td>0</td>\n",
       "      <td>0</td>\n",
       "      <td>0</td>\n",
       "      <td>0</td>\n",
       "      <td>0</td>\n",
       "    </tr>\n",
       "    <tr>\n",
       "      <th>ENSMUSG00000051951.6</th>\n",
       "      <td>chr1;chr1;chr1;chr1;chr1;chr1;chr1</td>\n",
       "      <td>3276124;3276746;3283662;3283832;3284705;349192...</td>\n",
       "      <td>3277540;3277540;3285855;3286567;3287191;349212...</td>\n",
       "      <td>-;-;-;-;-;-;-</td>\n",
       "      <td>6094</td>\n",
       "      <td>4</td>\n",
       "      <td>1</td>\n",
       "      <td>1</td>\n",
       "      <td>1</td>\n",
       "      <td>0</td>\n",
       "      <td>0</td>\n",
       "    </tr>\n",
       "    <tr>\n",
       "      <th>ENSMUSG00000102851.2</th>\n",
       "      <td>chr1</td>\n",
       "      <td>3322980</td>\n",
       "      <td>3323459</td>\n",
       "      <td>+</td>\n",
       "      <td>480</td>\n",
       "      <td>3</td>\n",
       "      <td>0</td>\n",
       "      <td>0</td>\n",
       "      <td>0</td>\n",
       "      <td>0</td>\n",
       "      <td>0</td>\n",
       "    </tr>\n",
       "    <tr>\n",
       "      <th>ENSMUSG00000103377.2</th>\n",
       "      <td>chr1</td>\n",
       "      <td>3435954</td>\n",
       "      <td>3438772</td>\n",
       "      <td>-</td>\n",
       "      <td>2819</td>\n",
       "      <td>0</td>\n",
       "      <td>0</td>\n",
       "      <td>0</td>\n",
       "      <td>0</td>\n",
       "      <td>0</td>\n",
       "      <td>0</td>\n",
       "    </tr>\n",
       "  </tbody>\n",
       "</table>\n",
       "</div>"
      ],
      "text/plain": [
       "                                                     Chr   \n",
       "Geneid                                                     \n",
       "ENSMUSG00000102693.2                                chr1  \\\n",
       "ENSMUSG00000064842.3                                chr1   \n",
       "ENSMUSG00000051951.6  chr1;chr1;chr1;chr1;chr1;chr1;chr1   \n",
       "ENSMUSG00000102851.2                                chr1   \n",
       "ENSMUSG00000103377.2                                chr1   \n",
       "\n",
       "                                                                  Start   \n",
       "Geneid                                                                    \n",
       "ENSMUSG00000102693.2                                            3143476  \\\n",
       "ENSMUSG00000064842.3                                            3172239   \n",
       "ENSMUSG00000051951.6  3276124;3276746;3283662;3283832;3284705;349192...   \n",
       "ENSMUSG00000102851.2                                            3322980   \n",
       "ENSMUSG00000103377.2                                            3435954   \n",
       "\n",
       "                                                                    End   \n",
       "Geneid                                                                    \n",
       "ENSMUSG00000102693.2                                            3144545  \\\n",
       "ENSMUSG00000064842.3                                            3172348   \n",
       "ENSMUSG00000051951.6  3277540;3277540;3285855;3286567;3287191;349212...   \n",
       "ENSMUSG00000102851.2                                            3323459   \n",
       "ENSMUSG00000103377.2                                            3438772   \n",
       "\n",
       "                             Strand  Length  CLIP-35L33G.bam  RNA-control.bam   \n",
       "Geneid                                                                          \n",
       "ENSMUSG00000102693.2              +    1070                0                0  \\\n",
       "ENSMUSG00000064842.3              +     110                0                0   \n",
       "ENSMUSG00000051951.6  -;-;-;-;-;-;-    6094                4                1   \n",
       "ENSMUSG00000102851.2              +     480                3                0   \n",
       "ENSMUSG00000103377.2              -    2819                0                0   \n",
       "\n",
       "                      RNA-siLin28a.bam  RNA-siLuc.bam  RPF-siLin28a.bam   \n",
       "Geneid                                                                    \n",
       "ENSMUSG00000102693.2                 0              0                 0  \\\n",
       "ENSMUSG00000064842.3                 0              0                 0   \n",
       "ENSMUSG00000051951.6                 1              1                 0   \n",
       "ENSMUSG00000102851.2                 0              0                 0   \n",
       "ENSMUSG00000103377.2                 0              0                 0   \n",
       "\n",
       "                      RPF-siLuc.bam  \n",
       "Geneid                               \n",
       "ENSMUSG00000102693.2              0  \n",
       "ENSMUSG00000064842.3              0  \n",
       "ENSMUSG00000051951.6              0  \n",
       "ENSMUSG00000102851.2              0  \n",
       "ENSMUSG00000103377.2              0  "
      ]
     },
     "execution_count": 17,
     "metadata": {},
     "output_type": "execute_result"
    }
   ],
   "source": [
    "import pandas as pd\n",
    "cnts = pd.read_csv('binfo1-work/read-counts.txt', sep='\\t', comment='#', index_col=0)\n",
    "cnts.head()"
   ]
  },
  {
   "cell_type": "markdown",
   "metadata": {
    "id": "NyrUZ7WBPAmv"
   },
   "source": [
    "이제 한 번 대충 그림을 그려 봅니다."
   ]
  },
  {
   "cell_type": "code",
   "execution_count": 18,
   "metadata": {
    "id": "YlSZiJgVPAZS"
   },
   "outputs": [
    {
     "data": {
      "text/html": [
       "<div>\n",
       "<style scoped>\n",
       "    .dataframe tbody tr th:only-of-type {\n",
       "        vertical-align: middle;\n",
       "    }\n",
       "\n",
       "    .dataframe tbody tr th {\n",
       "        vertical-align: top;\n",
       "    }\n",
       "\n",
       "    .dataframe thead th {\n",
       "        text-align: right;\n",
       "    }\n",
       "</style>\n",
       "<table border=\"1\" class=\"dataframe\">\n",
       "  <thead>\n",
       "    <tr style=\"text-align: right;\">\n",
       "      <th></th>\n",
       "      <th>Chr</th>\n",
       "      <th>Start</th>\n",
       "      <th>End</th>\n",
       "      <th>Strand</th>\n",
       "      <th>Length</th>\n",
       "      <th>CLIP-35L33G.bam</th>\n",
       "      <th>RNA-control.bam</th>\n",
       "      <th>RNA-siLin28a.bam</th>\n",
       "      <th>RNA-siLuc.bam</th>\n",
       "      <th>RPF-siLin28a.bam</th>\n",
       "      <th>RPF-siLuc.bam</th>\n",
       "      <th>clip_enrichment</th>\n",
       "      <th>rden_change</th>\n",
       "    </tr>\n",
       "    <tr>\n",
       "      <th>Geneid</th>\n",
       "      <th></th>\n",
       "      <th></th>\n",
       "      <th></th>\n",
       "      <th></th>\n",
       "      <th></th>\n",
       "      <th></th>\n",
       "      <th></th>\n",
       "      <th></th>\n",
       "      <th></th>\n",
       "      <th></th>\n",
       "      <th></th>\n",
       "      <th></th>\n",
       "      <th></th>\n",
       "    </tr>\n",
       "  </thead>\n",
       "  <tbody>\n",
       "    <tr>\n",
       "      <th>ENSMUSG00000102693.2</th>\n",
       "      <td>chr1</td>\n",
       "      <td>3143476</td>\n",
       "      <td>3144545</td>\n",
       "      <td>+</td>\n",
       "      <td>1070</td>\n",
       "      <td>0</td>\n",
       "      <td>0</td>\n",
       "      <td>0</td>\n",
       "      <td>0</td>\n",
       "      <td>0</td>\n",
       "      <td>0</td>\n",
       "      <td>NaN</td>\n",
       "      <td>NaN</td>\n",
       "    </tr>\n",
       "    <tr>\n",
       "      <th>ENSMUSG00000064842.3</th>\n",
       "      <td>chr1</td>\n",
       "      <td>3172239</td>\n",
       "      <td>3172348</td>\n",
       "      <td>+</td>\n",
       "      <td>110</td>\n",
       "      <td>0</td>\n",
       "      <td>0</td>\n",
       "      <td>0</td>\n",
       "      <td>0</td>\n",
       "      <td>0</td>\n",
       "      <td>0</td>\n",
       "      <td>NaN</td>\n",
       "      <td>NaN</td>\n",
       "    </tr>\n",
       "    <tr>\n",
       "      <th>ENSMUSG00000051951.6</th>\n",
       "      <td>chr1;chr1;chr1;chr1;chr1;chr1;chr1</td>\n",
       "      <td>3276124;3276746;3283662;3283832;3284705;349192...</td>\n",
       "      <td>3277540;3277540;3285855;3286567;3287191;349212...</td>\n",
       "      <td>-;-;-;-;-;-;-</td>\n",
       "      <td>6094</td>\n",
       "      <td>4</td>\n",
       "      <td>1</td>\n",
       "      <td>1</td>\n",
       "      <td>1</td>\n",
       "      <td>0</td>\n",
       "      <td>0</td>\n",
       "      <td>4.0</td>\n",
       "      <td>NaN</td>\n",
       "    </tr>\n",
       "    <tr>\n",
       "      <th>ENSMUSG00000102851.2</th>\n",
       "      <td>chr1</td>\n",
       "      <td>3322980</td>\n",
       "      <td>3323459</td>\n",
       "      <td>+</td>\n",
       "      <td>480</td>\n",
       "      <td>3</td>\n",
       "      <td>0</td>\n",
       "      <td>0</td>\n",
       "      <td>0</td>\n",
       "      <td>0</td>\n",
       "      <td>0</td>\n",
       "      <td>inf</td>\n",
       "      <td>NaN</td>\n",
       "    </tr>\n",
       "    <tr>\n",
       "      <th>ENSMUSG00000103377.2</th>\n",
       "      <td>chr1</td>\n",
       "      <td>3435954</td>\n",
       "      <td>3438772</td>\n",
       "      <td>-</td>\n",
       "      <td>2819</td>\n",
       "      <td>0</td>\n",
       "      <td>0</td>\n",
       "      <td>0</td>\n",
       "      <td>0</td>\n",
       "      <td>0</td>\n",
       "      <td>0</td>\n",
       "      <td>NaN</td>\n",
       "      <td>NaN</td>\n",
       "    </tr>\n",
       "  </tbody>\n",
       "</table>\n",
       "</div>"
      ],
      "text/plain": [
       "                                                     Chr   \n",
       "Geneid                                                     \n",
       "ENSMUSG00000102693.2                                chr1  \\\n",
       "ENSMUSG00000064842.3                                chr1   \n",
       "ENSMUSG00000051951.6  chr1;chr1;chr1;chr1;chr1;chr1;chr1   \n",
       "ENSMUSG00000102851.2                                chr1   \n",
       "ENSMUSG00000103377.2                                chr1   \n",
       "\n",
       "                                                                  Start   \n",
       "Geneid                                                                    \n",
       "ENSMUSG00000102693.2                                            3143476  \\\n",
       "ENSMUSG00000064842.3                                            3172239   \n",
       "ENSMUSG00000051951.6  3276124;3276746;3283662;3283832;3284705;349192...   \n",
       "ENSMUSG00000102851.2                                            3322980   \n",
       "ENSMUSG00000103377.2                                            3435954   \n",
       "\n",
       "                                                                    End   \n",
       "Geneid                                                                    \n",
       "ENSMUSG00000102693.2                                            3144545  \\\n",
       "ENSMUSG00000064842.3                                            3172348   \n",
       "ENSMUSG00000051951.6  3277540;3277540;3285855;3286567;3287191;349212...   \n",
       "ENSMUSG00000102851.2                                            3323459   \n",
       "ENSMUSG00000103377.2                                            3438772   \n",
       "\n",
       "                             Strand  Length  CLIP-35L33G.bam  RNA-control.bam   \n",
       "Geneid                                                                          \n",
       "ENSMUSG00000102693.2              +    1070                0                0  \\\n",
       "ENSMUSG00000064842.3              +     110                0                0   \n",
       "ENSMUSG00000051951.6  -;-;-;-;-;-;-    6094                4                1   \n",
       "ENSMUSG00000102851.2              +     480                3                0   \n",
       "ENSMUSG00000103377.2              -    2819                0                0   \n",
       "\n",
       "                      RNA-siLin28a.bam  RNA-siLuc.bam  RPF-siLin28a.bam   \n",
       "Geneid                                                                    \n",
       "ENSMUSG00000102693.2                 0              0                 0  \\\n",
       "ENSMUSG00000064842.3                 0              0                 0   \n",
       "ENSMUSG00000051951.6                 1              1                 0   \n",
       "ENSMUSG00000102851.2                 0              0                 0   \n",
       "ENSMUSG00000103377.2                 0              0                 0   \n",
       "\n",
       "                      RPF-siLuc.bam  clip_enrichment  rden_change  \n",
       "Geneid                                                             \n",
       "ENSMUSG00000102693.2              0              NaN          NaN  \n",
       "ENSMUSG00000064842.3              0              NaN          NaN  \n",
       "ENSMUSG00000051951.6              0              4.0          NaN  \n",
       "ENSMUSG00000102851.2              0              inf          NaN  \n",
       "ENSMUSG00000103377.2              0              NaN          NaN  "
      ]
     },
     "execution_count": 18,
     "metadata": {},
     "output_type": "execute_result"
    }
   ],
   "source": [
    "cnts['clip_enrichment'] = cnts['CLIP-35L33G.bam'] / cnts['RNA-control.bam']\n",
    "cnts['rden_change'] = (cnts['RPF-siLin28a.bam'] / cnts['RNA-siLin28a.bam']) / (cnts['RPF-siLuc.bam'] / cnts['RNA-siLuc.bam'])\n",
    "cnts.head()"
   ]
  },
  {
   "cell_type": "code",
   "execution_count": 19,
   "metadata": {
    "id": "vU3ce_HEFALl"
   },
   "outputs": [
    {
     "name": "stderr",
     "output_type": "stream",
     "text": [
      "/home/james/.conda/envs/bioinfo/lib/python3.10/site-packages/pandas/core/arraylike.py:396: RuntimeWarning: divide by zero encountered in log2\n",
      "  result = getattr(ufunc, method)(*inputs, **kwargs)\n"
     ]
    },
    {
     "data": {
      "text/plain": [
       "<matplotlib.collections.PathCollection at 0x7f32ddf7e080>"
      ]
     },
     "execution_count": 19,
     "metadata": {},
     "output_type": "execute_result"
    },
    {
     "data": {
      "image/png": "[encoded data removed]",
      "text/plain": [
       "<Figure size 500x500 with 1 Axes>"
      ]
     },
     "metadata": {},
     "output_type": "display_data"
    }
   ],
   "source": [
    "from matplotlib import pyplot as plt\n",
    "import numpy as np\n",
    "\n",
    "fig, ax = plt.subplots(1, 1, figsize=(5, 5))\n",
    "ax.scatter(np.log2(cnts['clip_enrichment']),\n",
    "           np.log2(cnts['rden_change']))"
   ]
  },
  {
   "cell_type": "markdown",
   "metadata": {
    "id": "ksVjIL10mV_v"
   },
   "source": [
    "이 그림에는 문제가 많이 있습니다. 논문의 그림처럼 한 번 만들어 봅시다~"
   ]
  },
  {
   "cell_type": "markdown",
   "metadata": {
    "id": "sf6EJJ60Qbxg"
   },
   "source": [
    "## Protein localization 반영하기\n",
    "\n",
    "논문 그림에서는 protein localization을 반영해서 색으로 나타냈습니다. 이것을 한 번 구현해 봅시다. 각 gene product의 localization을 따로 구하려면 좀 귀찮기 때문에 미리 모아 두었습니다. UniProt에서 매핑된 데이터를 토대로 아주 명확한 것만 일부 정리한 것입니다. 이것도 마찬가지로 처음엔 에러가 나기도 하니까, 다시 실행해보면 거의 잘 됩니다~"
   ]
  },
  {
   "cell_type": "code",
   "execution_count": 20,
   "metadata": {
    "id": "ivb1q7_f-gl4"
   },
   "outputs": [
    {
     "data": {
      "text/html": [
       "<div>\n",
       "<style scoped>\n",
       "    .dataframe tbody tr th:only-of-type {\n",
       "        vertical-align: middle;\n",
       "    }\n",
       "\n",
       "    .dataframe tbody tr th {\n",
       "        vertical-align: top;\n",
       "    }\n",
       "\n",
       "    .dataframe thead th {\n",
       "        text-align: right;\n",
       "    }\n",
       "</style>\n",
       "<table border=\"1\" class=\"dataframe\">\n",
       "  <thead>\n",
       "    <tr style=\"text-align: right;\">\n",
       "      <th></th>\n",
       "      <th>gene_id</th>\n",
       "      <th>Gene names</th>\n",
       "      <th>type</th>\n",
       "    </tr>\n",
       "  </thead>\n",
       "  <tbody>\n",
       "    <tr>\n",
       "      <th>0</th>\n",
       "      <td>ENSMUSG00000000001</td>\n",
       "      <td>Gnai3</td>\n",
       "      <td>cytoplasm</td>\n",
       "    </tr>\n",
       "    <tr>\n",
       "      <th>1</th>\n",
       "      <td>ENSMUSG00000000028</td>\n",
       "      <td>Cdc45 Cdc45l Cdc45l2</td>\n",
       "      <td>nucleus</td>\n",
       "    </tr>\n",
       "    <tr>\n",
       "      <th>2</th>\n",
       "      <td>ENSMUSG00000000049</td>\n",
       "      <td>Apoh B2gp1</td>\n",
       "      <td>cytoplasm</td>\n",
       "    </tr>\n",
       "    <tr>\n",
       "      <th>3</th>\n",
       "      <td>ENSMUSG00000000058</td>\n",
       "      <td>Cav2</td>\n",
       "      <td>cytoplasm</td>\n",
       "    </tr>\n",
       "    <tr>\n",
       "      <th>4</th>\n",
       "      <td>ENSMUSG00000000085</td>\n",
       "      <td>Scmh1</td>\n",
       "      <td>nucleus</td>\n",
       "    </tr>\n",
       "  </tbody>\n",
       "</table>\n",
       "</div>"
      ],
      "text/plain": [
       "              gene_id            Gene names       type\n",
       "0  ENSMUSG00000000001                 Gnai3  cytoplasm\n",
       "1  ENSMUSG00000000028  Cdc45 Cdc45l Cdc45l2    nucleus\n",
       "2  ENSMUSG00000000049            Apoh B2gp1  cytoplasm\n",
       "3  ENSMUSG00000000058                  Cav2  cytoplasm\n",
       "4  ENSMUSG00000000085                 Scmh1    nucleus"
      ]
     },
     "execution_count": 20,
     "metadata": {},
     "output_type": "execute_result"
    }
   ],
   "source": [
    "import ssl\n",
    "ssl._create_default_https_context = ssl._create_unverified_context\n",
    "mouselocal = pd.read_csv('https://hyeshik.qbio.io/binfo/mouselocalization-20210507.txt', sep='\\t')\n",
    "mouselocal.head()\n",
    "# mouselocaldict = mouselocal.to_dict('records')\n",
    "# mouselocaldict"
   ]
  },
  {
   "cell_type": "markdown",
   "metadata": {
    "id": "Q9vgSzeiQxDU"
   },
   "source": [
    "이제 이 localization 데이터와 위에서 만든 scatter를 결합해서 논문 그림과 비슷하게 만들어 봅시다."
   ]
  },
  {
   "cell_type": "code",
   "execution_count": 21,
   "metadata": {},
   "outputs": [
    {
     "data": {
      "text/html": [
       "<div>\n",
       "<style scoped>\n",
       "    .dataframe tbody tr th:only-of-type {\n",
       "        vertical-align: middle;\n",
       "    }\n",
       "\n",
       "    .dataframe tbody tr th {\n",
       "        vertical-align: top;\n",
       "    }\n",
       "\n",
       "    .dataframe thead th {\n",
       "        text-align: right;\n",
       "    }\n",
       "</style>\n",
       "<table border=\"1\" class=\"dataframe\">\n",
       "  <thead>\n",
       "    <tr style=\"text-align: right;\">\n",
       "      <th></th>\n",
       "      <th>Chr</th>\n",
       "      <th>Start</th>\n",
       "      <th>End</th>\n",
       "      <th>Strand</th>\n",
       "      <th>Length</th>\n",
       "      <th>CLIP-35L33G.bam</th>\n",
       "      <th>RNA-control.bam</th>\n",
       "      <th>RNA-siLin28a.bam</th>\n",
       "      <th>RNA-siLuc.bam</th>\n",
       "      <th>RPF-siLin28a.bam</th>\n",
       "      <th>RPF-siLuc.bam</th>\n",
       "      <th>clip_enrichment</th>\n",
       "      <th>rden_change</th>\n",
       "      <th>gene_id</th>\n",
       "      <th>Gene names</th>\n",
       "      <th>type</th>\n",
       "    </tr>\n",
       "  </thead>\n",
       "  <tbody>\n",
       "    <tr>\n",
       "      <th>2</th>\n",
       "      <td>chr1;chr1;chr1;chr1;chr1;chr1;chr1</td>\n",
       "      <td>3276124;3276746;3283662;3283832;3284705;349192...</td>\n",
       "      <td>3277540;3277540;3285855;3286567;3287191;349212...</td>\n",
       "      <td>-;-;-;-;-;-;-</td>\n",
       "      <td>6094</td>\n",
       "      <td>4</td>\n",
       "      <td>1</td>\n",
       "      <td>1</td>\n",
       "      <td>1</td>\n",
       "      <td>0</td>\n",
       "      <td>0</td>\n",
       "      <td>4.000000</td>\n",
       "      <td>NaN</td>\n",
       "      <td>ENSMUSG00000051951</td>\n",
       "      <td>Xkr4 Xrg4</td>\n",
       "      <td>integral membrane</td>\n",
       "    </tr>\n",
       "    <tr>\n",
       "      <th>19</th>\n",
       "      <td>chr1;chr1;chr1;chr1;chr1;chr1;chr1;chr1;chr1;c...</td>\n",
       "      <td>4561154;4561473;4561613;4561936;4562680;456268...</td>\n",
       "      <td>4562891;4562886;4562891;4562891;4563827;456289...</td>\n",
       "      <td>-;-;-;-;-;-;-;-;-;-;-;-;-;-;-;-;-;-;-;-;-;-;-;...</td>\n",
       "      <td>4772</td>\n",
       "      <td>6</td>\n",
       "      <td>1</td>\n",
       "      <td>8</td>\n",
       "      <td>5</td>\n",
       "      <td>2</td>\n",
       "      <td>3</td>\n",
       "      <td>6.000000</td>\n",
       "      <td>0.416667</td>\n",
       "      <td>ENSMUSG00000025902</td>\n",
       "      <td>Sox17 Sox-17</td>\n",
       "      <td>nucleus</td>\n",
       "    </tr>\n",
       "    <tr>\n",
       "      <th>33</th>\n",
       "      <td>chr1;chr1;chr1;chr1;chr1;chr1;chr1;chr1;chr1;c...</td>\n",
       "      <td>4878011;4878046;4878053;4878119;4878121;487813...</td>\n",
       "      <td>4878205;4878205;4878205;4878205;4878205;487820...</td>\n",
       "      <td>+;+;+;+;+;+;+;+;+;+;+;+;+;+;+;+;+;+;+;+;+;+;+;...</td>\n",
       "      <td>7145</td>\n",
       "      <td>2045</td>\n",
       "      <td>574</td>\n",
       "      <td>1219</td>\n",
       "      <td>1236</td>\n",
       "      <td>33</td>\n",
       "      <td>44</td>\n",
       "      <td>3.562718</td>\n",
       "      <td>0.760459</td>\n",
       "      <td>ENSMUSG00000025903</td>\n",
       "      <td>Lypla1 Apt1 Pla1a</td>\n",
       "      <td>cytoplasm</td>\n",
       "    </tr>\n",
       "    <tr>\n",
       "      <th>38</th>\n",
       "      <td>chr1;chr1;chr1;chr1;chr1;chr1;chr1;chr1;chr1;c...</td>\n",
       "      <td>4979799;4979799;4980625;4980697;4982537;498253...</td>\n",
       "      <td>4980885;4980885;4980885;4980885;4982771;498277...</td>\n",
       "      <td>-;-;-;-;-;-;-;-;-;-;-;-;-;-;-;-;-;-;-;-;-;-;-;...</td>\n",
       "      <td>4239</td>\n",
       "      <td>5</td>\n",
       "      <td>1</td>\n",
       "      <td>1</td>\n",
       "      <td>8</td>\n",
       "      <td>3</td>\n",
       "      <td>2</td>\n",
       "      <td>5.000000</td>\n",
       "      <td>12.000000</td>\n",
       "      <td>ENSMUSG00000002459</td>\n",
       "      <td>Rgs20 Rgsz1</td>\n",
       "      <td>nucleus</td>\n",
       "    </tr>\n",
       "    <tr>\n",
       "      <th>47</th>\n",
       "      <td>chr1;chr1;chr1;chr1;chr1;chr1;chr1;chr1;chr1;c...</td>\n",
       "      <td>5658689;5658716;5658716;5658780;5659164;565922...</td>\n",
       "      <td>5661534;5658886;5658886;5658886;5659528;565952...</td>\n",
       "      <td>+;+;+;+;+;+;+;+;+;+;+;+;+;+;+;+;+;+</td>\n",
       "      <td>9151</td>\n",
       "      <td>49</td>\n",
       "      <td>1</td>\n",
       "      <td>20</td>\n",
       "      <td>20</td>\n",
       "      <td>8</td>\n",
       "      <td>7</td>\n",
       "      <td>49.000000</td>\n",
       "      <td>1.142857</td>\n",
       "      <td>ENSMUSG00000025905</td>\n",
       "      <td>Oprk1</td>\n",
       "      <td>integral membrane</td>\n",
       "    </tr>\n",
       "  </tbody>\n",
       "</table>\n",
       "</div>"
      ],
      "text/plain": [
       "                                                  Chr   \n",
       "2                  chr1;chr1;chr1;chr1;chr1;chr1;chr1  \\\n",
       "19  chr1;chr1;chr1;chr1;chr1;chr1;chr1;chr1;chr1;c...   \n",
       "33  chr1;chr1;chr1;chr1;chr1;chr1;chr1;chr1;chr1;c...   \n",
       "38  chr1;chr1;chr1;chr1;chr1;chr1;chr1;chr1;chr1;c...   \n",
       "47  chr1;chr1;chr1;chr1;chr1;chr1;chr1;chr1;chr1;c...   \n",
       "\n",
       "                                                Start   \n",
       "2   3276124;3276746;3283662;3283832;3284705;349192...  \\\n",
       "19  4561154;4561473;4561613;4561936;4562680;456268...   \n",
       "33  4878011;4878046;4878053;4878119;4878121;487813...   \n",
       "38  4979799;4979799;4980625;4980697;4982537;498253...   \n",
       "47  5658689;5658716;5658716;5658780;5659164;565922...   \n",
       "\n",
       "                                                  End   \n",
       "2   3277540;3277540;3285855;3286567;3287191;349212...  \\\n",
       "19  4562891;4562886;4562891;4562891;4563827;456289...   \n",
       "33  4878205;4878205;4878205;4878205;4878205;487820...   \n",
       "38  4980885;4980885;4980885;4980885;4982771;498277...   \n",
       "47  5661534;5658886;5658886;5658886;5659528;565952...   \n",
       "\n",
       "                                               Strand  Length   \n",
       "2                                       -;-;-;-;-;-;-    6094  \\\n",
       "19  -;-;-;-;-;-;-;-;-;-;-;-;-;-;-;-;-;-;-;-;-;-;-;...    4772   \n",
       "33  +;+;+;+;+;+;+;+;+;+;+;+;+;+;+;+;+;+;+;+;+;+;+;...    7145   \n",
       "38  -;-;-;-;-;-;-;-;-;-;-;-;-;-;-;-;-;-;-;-;-;-;-;...    4239   \n",
       "47                +;+;+;+;+;+;+;+;+;+;+;+;+;+;+;+;+;+    9151   \n",
       "\n",
       "    CLIP-35L33G.bam  RNA-control.bam  RNA-siLin28a.bam  RNA-siLuc.bam   \n",
       "2                 4                1                 1              1  \\\n",
       "19                6                1                 8              5   \n",
       "33             2045              574              1219           1236   \n",
       "38                5                1                 1              8   \n",
       "47               49                1                20             20   \n",
       "\n",
       "    RPF-siLin28a.bam  RPF-siLuc.bam  clip_enrichment  rden_change   \n",
       "2                  0              0         4.000000          NaN  \\\n",
       "19                 2              3         6.000000     0.416667   \n",
       "33                33             44         3.562718     0.760459   \n",
       "38                 3              2         5.000000    12.000000   \n",
       "47                 8              7        49.000000     1.142857   \n",
       "\n",
       "               gene_id         Gene names               type  \n",
       "2   ENSMUSG00000051951          Xkr4 Xrg4  integral membrane  \n",
       "19  ENSMUSG00000025902       Sox17 Sox-17            nucleus  \n",
       "33  ENSMUSG00000025903  Lypla1 Apt1 Pla1a          cytoplasm  \n",
       "38  ENSMUSG00000002459        Rgs20 Rgsz1            nucleus  \n",
       "47  ENSMUSG00000025905              Oprk1  integral membrane  "
      ]
     },
     "execution_count": 21,
     "metadata": {},
     "output_type": "execute_result"
    }
   ],
   "source": [
    "cnts_new = cnts\n",
    "cnts_new['gene_id'] = cnts_new.index.str.split('.').str[0]\n",
    "cnts_new\n",
    "merged = pd.merge(cnts_new, mouselocal[['gene_id', 'Gene names', 'type']], on='gene_id', how='left')\n",
    "merged.dropna(subset=['type'], inplace=True)\n",
    "merged.head()"
   ]
  },
  {
   "cell_type": "code",
   "execution_count": 22,
   "metadata": {
    "id": "aPPW73t4X3pp"
   },
   "outputs": [],
   "source": [
    "colors = {'cytoplasm': 'red', 'nucleus': 'blue', 'integral membrane':'green'}\n",
    "color_list = [colors[loc] for loc in mouselocal['type']]\n",
    "# color_list"
   ]
  },
  {
   "cell_type": "code",
   "execution_count": 23,
   "metadata": {},
   "outputs": [
    {
     "name": "stderr",
     "output_type": "stream",
     "text": [
      "/home/james/.conda/envs/bioinfo/lib/python3.10/site-packages/pandas/core/arraylike.py:396: RuntimeWarning: divide by zero encountered in log2\n",
      "  result = getattr(ufunc, method)(*inputs, **kwargs)\n"
     ]
    },
    {
     "data": {
      "text/plain": [
       "Text(0, 0.5, 'Log2 rden_change')"
      ]
     },
     "execution_count": 23,
     "metadata": {},
     "output_type": "execute_result"
    },
    {
     "data": {
      "image/png": "[encoded data removed]",
      "text/plain": [
       "<Figure size 500x500 with 1 Axes>"
      ]
     },
     "metadata": {},
     "output_type": "display_data"
    }
   ],
   "source": [
    "from matplotlib import pyplot as plt\n",
    "import numpy as np\n",
    "import matplotlib.patches as mpatches\n",
    "\n",
    "fig, ax = plt.subplots(1, 1, figsize=(5, 5))\n",
    "sc = ax.scatter(np.log2(merged['clip_enrichment']),\n",
    "           np.log2(merged['rden_change']), c=color_list, alpha=0.7)\n",
    "\n",
    "# create custom legend handles and labels\n",
    "handles = [mpatches.Patch(color=color, label=label) for label, color in colors.items()]\n",
    "\n",
    "# add legend\n",
    "legend1 = ax.legend(handles=handles, title=\"Type\", loc=\"upper left\")\n",
    "ax.add_artist(legend1)\n",
    "\n",
    "# Add x-axis and y-axis labels\n",
    "ax.set_xlabel(\"Log2 clip_enrichment\")\n",
    "ax.set_ylabel(\"Log2 rden_change\")"
   ]
  },
  {
   "cell_type": "code",
   "execution_count": null,
   "metadata": {},
   "outputs": [],
   "source": []
  }
 ],
 "metadata": {
  "colab": {
   "provenance": []
  },
  "kernelspec": {
   "display_name": "Python 3",
   "language": "python",
   "name": "python3"
  },
  "language_info": {
   "codemirror_mode": {
    "name": "ipython",
    "version": 3
   },
   "file_extension": ".py",
   "mimetype": "text/x-python",
   "name": "python",
   "nbconvert_exporter": "python",
   "pygments_lexer": "ipython3",
   "version": "3.6.9"
  }
 },
 "nbformat": 4,
 "nbformat_minor": 4
}
