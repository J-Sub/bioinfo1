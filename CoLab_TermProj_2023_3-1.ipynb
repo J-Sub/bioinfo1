{
  "cells": [
    {
      "attachments": {},
      "cell_type": "markdown",
      "metadata": {
        "id": "qSmNiRknPfSy"
      },
      "source": [
        "# 생물정보학 및 실습 1 - Term Project용 Mission 3 환경 셋업\n",
        "\n",
        "```\n",
        "생물정보학 및 실습 1\n",
        "서울대학교 생물정보학전공/생명과학부 2023년 1학기\n",
        "\n",
        "이 노트북은 Creative Commons BY-SA 조건으로 재사용 가능합니다.\n",
        "장혜식 <hyeshik@snu.ac.kr>, 서울대학교 생명과학부\n",
        "```\n",
        "\n",
        "이 노트북은 Google Colab을 이용해서 Term Project를 할 수 있도록 환경을 준비해 줍니다. 터미널 사용이 원활하지 않은 상태이고, 데이터를 오랫동안 보관하기 어렵기 때문에 되도록 개인용 컴퓨터에서 [Anaconda](https://www.anaconda.com/)나 [JupyterLab](https://jupyterlab.readthedocs.io/en/stable/) 등을 설치하고 사용하시는 것이 편하지만, 개인용 컴퓨터 사양이 부족한 경우에는 Google CoLab을 사용할 수도 있습니다. 개인용 컴퓨터를 쓸 때는 Windows에서는 [WSL2](https://docs.microsoft.com/en-us/windows/wsl/install-win10)를 쓰시면 리눅스 커맨드라인 환경을 쓸 수 있습니다. Google Colab은 창을 닫은 후 90분 후, 또는 창을 처음 열고 12시간 후에 환경을 닫아버리기 때문에 매번 실습할 때마다 새로 셋업이 필요합니다. `Runtime->Run All`을 실행해서 전체를 한 번 실행하시면 준비됩니다. 모든 것이 잘 안 되고 뭔가 꼬인 느낌이 강하게 들 때는 `Runtime->Factory reset runtime`을 누르고 새로 시작하시면 될 수도 있습니다.\n"
      ]
    },
    {
      "attachments": {},
      "cell_type": "markdown",
      "metadata": {
        "id": "ojAx9SdvPfSz"
      },
      "source": [
        "## Google Drive 마운트\n",
        "\n",
        "데이터 파일들을 불러오고 저장하기 위해서 Google Drive를 연결합니다. **이번엔 스크립트 파일을 편집해야 하기 때문에 Google Drive 마운트를 하지 않으면 vim등 콘솔에서 쓸 수 있는 에디터를 쓰셔야 합니다.** 화면에 나오는 주소를 눌러서 인증하고 인증 코드를 그 아래에 입력하세요. 그러면 `/contents/drive/MyDrive`에서 자신의 Drive 최상단 폴더가 보입니다. Google CoLab에서 접속하지 않고, 본인 컴퓨터 또는 연구실 워크스테이션 등 다른 컴퓨터를 쓰시는 경우에는 저장공간이 충분하므로 이 부분은 생략하고 지나갑니다."
      ]
    },
    {
      "cell_type": "code",
      "execution_count": null,
      "metadata": {
        "id": "SbkVVS-CPfSz"
      },
      "outputs": [],
      "source": [
        "from google.colab import drive\n",
        "drive.mount('/content/drive')"
      ]
    },
    {
      "attachments": {},
      "cell_type": "markdown",
      "metadata": {
        "id": "BjtCUaGSPfSz"
      },
      "source": [
        "## 실습용 Bioconda 환경 설치하기\n",
        "Google CoLab에서 접속하지 않고, 본인 컴퓨터 또는 연구실 워크스테이션 등 다른 컴퓨터를 쓰시는 경우에는 따로 실습용 [Bioconda](https://bioconda.github.io/) 환경을 구축해서 이 노트북을 그 환경 안에서 띄우시면 됩니다.\n",
        "\n",
        "CoLab을 쓰시는 분들은 다음에 따라서 실습용 프로그램들을 쉽게 설치할 수 있도록 [Bioconda](https://bioconda.github.io/) 환경을 만듭니다. 실행하고 진행상황을 관찰하다가 에러로 보이는 것이 있으면 잘 읽어보고 해결합니다.\n",
        "\n",
        "파이썬 모듈들은 Colab쪽의 파이썬 인터프리터를 바꿀 수 없기 때문에 Conda에 설치하더라도 사용하기 어렵습니다. 파이썬 모듈은 `pip` 명령어로 설치하시면 Colab에서 불러와서 사용할 수 있습니다.\n",
        "\n",
        "환경 초기화에 관련된 스크립트는 [GitHub 프로젝트](https://github.com/hyeshik/colab-biolab)에 있습니다."
      ]
    },
    {
      "cell_type": "code",
      "execution_count": null,
      "metadata": {
        "id": "g-vfGi3ePfSz"
      },
      "outputs": [],
      "source": [
        "!git clone https://github.com/hyeshik/colab-biolab.git\n",
        "!cd colab-biolab && bash tools/setup.sh\n",
        "exec(open('colab-biolab/tools/activate_conda.py').read())"
      ]
    },
    {
      "attachments": {},
      "cell_type": "markdown",
      "metadata": {
        "id": "8A1Qq4AcPfS0"
      },
      "source": [
        "설정이 끝났으면, 이제 콘솔을 열어서 터미널로 접속할 수 있는 통로를 열어줍니다."
      ]
    },
    {
      "attachments": {},
      "cell_type": "markdown",
      "metadata": {
        "id": "etOQJdMTPfS0"
      },
      "source": [
        "## 시퀀싱 데이터 다운로드\n",
        "첫 실습 시간에 데이터 복사를 마쳤으면 이 부분은 생략하고 지나갑니다.\n",
        "\n",
        "이제 실습 수업에서 필요한 시퀀싱 데이터를 다운로드 받아서 설치합시다. 드라이브 공간만 충분하면 데이터는 계속 저장돼 있기 때문에 학기 전체를 통해서 딱 한 번만 하시면 됩니다. Colab에서는 작업용 데이터를 Google Drive 폴더 아래의 `binfo-datapack1`에 저장합니다. 실습용 데이터는 `/content/drive/MyDrive/binfo1-datapack1`에 풀리게 됩니다.\n",
        "\n",
        "### (Option 1) Google CoLab에서 접속한 경우\n",
        "1. [Google Drive 공유폴더](https://drive.google.com/drive/folders/1QBJednh-C7A17PFOlpZHBKyDmBvd6klh?usp=sharing)에 접속합니다.\n",
        "1. 중간 제목줄의 \"binfo1-datapack1 ▾\"에서 ▾을 누릅니다.\n",
        "1. Add shortcut to Drive를 누릅니다.\n",
        "1. My Drive를 선택해서 ADD SHORTCUT 버튼을 누릅니다.\n",
        "1. 다음 cell을 실행해서 링크가 제대로 들어왔는지 확인합니다. (바로 확인되지 않으면 3–5분 정도 기다렸다가 하면 됩니다.)\n",
        "1. 제대로 확인되면 다음으로 넘어갑니다.\n"
      ]
    },
    {
      "cell_type": "code",
      "execution_count": null,
      "metadata": {
        "id": "D24wKYriG8tI"
      },
      "outputs": [],
      "source": [
        "!ls -al /content/drive/MyDrive/binfo1-datapack1/"
      ]
    },
    {
      "attachments": {},
      "cell_type": "markdown",
      "metadata": {
        "id": "OZ0KkKrmG-M4"
      },
      "source": [
        "### (Option 2) CoLab외의 다른 환경에서 접속한 경우\n",
        "본인 컴퓨터나 연구실 워크스테이션 등에서 작업하는 경우에는 다음 명령어로 다운로드 받으시면 됩니다. 첫 번째에는 wget이 접속오류를 내는 경우가 많으니, 접속에러가 발생하면 다시 한 번 실행해 보세요. `/content/drive/Mydrive` 부분은 원하는 저장 경로로 바꿔서 지정하시면 됩니다."
      ]
    },
    {
      "cell_type": "code",
      "execution_count": null,
      "metadata": {
        "id": "rgT10jUOPfS0"
      },
      "outputs": [],
      "source": [
        "!wget -O - --no-check-certificate https://hyeshik.qbio.io/binfo/binfo1-datapack1.tar | tar -C /content/drive/MyDrive -xf -"
      ]
    },
    {
      "attachments": {},
      "cell_type": "markdown",
      "metadata": {
        "id": "BnS18ErRPfS2"
      },
      "source": [
        "### 파일 체크섬 확인\n",
        "\n",
        "받은 데이터의 MD5 체크섬을 확인합니다. 한참 걸립니다. 각 파일들의 원래 체크섬은 다음과 같습니다. 한 번 비교해 보세요.\n",
        "\n",
        "```\n",
        "140aaf30bcb9276cc716f8699f04ddd6  CLIP-35L33G.bam\n",
        "f1b3336ed7e2f97d562dcc71641251bd  CLIP-35L33G.bam.bai\n",
        "328883a73d507eafbf5b60bd6b906201  RNA-control.bam\n",
        "02073818e2f398a73c3b76e5169de1ca  RNA-control.bam.bai\n",
        "b09550d09d6c2a4ce27f0226f426fdb1  RNA-siLin28a.bam\n",
        "fef112c727244060ea62d3f2564a07f6  RNA-siLin28a.bam.bai\n",
        "28bbd0c47d725669340c784f1b772c01  RNA-siLuc.bam\n",
        "43590fdc4d81905c0432e0d1cb8cfd5b  RNA-siLuc.bam.bai\n",
        "5c08a9297307bc83259e658c4474f0cc  RPF-siLin28a.bam\n",
        "a1bb3e29be412dfd7fd8d16b1b1acc4c  RPF-siLin28a.bam.bai\n",
        "f2eebf50943024d0116c9cd3e744c707  RPF-siLuc.bam\n",
        "dc24f69e8f571fc8be30f28ce5b84fcd  RPF-siLuc.bam.bai\n",
        "```"
      ]
    },
    {
      "cell_type": "code",
      "execution_count": null,
      "metadata": {
        "id": "6wOX9pzSPfS2"
      },
      "outputs": [],
      "source": [
        "!md5sum drive/MyDrive/binfo1-datapack1/*"
      ]
    },
    {
      "cell_type": "code",
      "execution_count": null,
      "metadata": {
        "id": "-TbxufDhch1f"
      },
      "outputs": [],
      "source": [
        "!ls -al drive/MyDrive/binfo*"
      ]
    },
    {
      "attachments": {},
      "cell_type": "markdown",
      "metadata": {
        "id": "TYffnLRpcmSn"
      },
      "source": [
        "# 파일 복사하기\n",
        "첫 시간에 파일을 복사해 두었으면 이 부분은 생략하고 다음으로 넘어갑니다.\n",
        "\n",
        "공유한 폴더를 나의 작업 폴더로 복사합니다."
      ]
    },
    {
      "cell_type": "code",
      "execution_count": null,
      "metadata": {
        "id": "mDgKA0xGco6G"
      },
      "outputs": [],
      "source": [
        "!mkdir -p /content/drive/MyDrive/binfo1-work\n",
        "%cd /content/drive/MyDrive/binfo1-work\n",
        "!cp ../binfo1-datapack1/* ."
      ]
    },
    {
      "attachments": {},
      "cell_type": "markdown",
      "metadata": {
        "id": "ecEA1PPQUlIK"
      },
      "source": [
        "# 프로그램 설치\n",
        "데이터 준비가 끝났으면, 이제 이번 시간 실습에 필요한 프로그램들 몇 가지를 추가로 설치합니다."
      ]
    },
    {
      "cell_type": "code",
      "execution_count": null,
      "metadata": {
        "id": "neteyWsWEKBy"
      },
      "outputs": [],
      "source": [
        "!conda install -y bedtools bioawk samtools"
      ]
    },
    {
      "attachments": {},
      "cell_type": "markdown",
      "metadata": {},
      "source": [
        "# 실습 시작"
      ]
    },
    {
      "attachments": {},
      "cell_type": "markdown",
      "metadata": {
        "id": "Oe_54MZrEi4y"
      },
      "source": [
        "## Mission 3\n",
        "\n",
        "이번 미션에서는 Figure S2A 아랫쪽에 표시되는 clustered error 분석 (CIMS; Crosslinking-induced mutation sites)을 합니다. 자외선에 의해서 단백질이 붙어있다가 단백질 분해효소로 단백질을 뜯어내고 남은 자리에서는 reverse-transcriptase가 오류를 자주 냅니다. 오류율을 분석해서 단백질이 앉아 있었던 자리를 분석해 봅시다.\n",
        "\n",
        "데이터는 지난 번과 동일하기 때문에 이미 다운로드 받으셨다면 다시 다운로드 받을 필요는 없습니다."
      ]
    },
    {
      "cell_type": "code",
      "execution_count": null,
      "metadata": {
        "id": "IANz6DmLUkA6"
      },
      "outputs": [],
      "source": [
        "%cd /content/drive/MyDrive/binfo1-work/"
      ]
    },
    {
      "attachments": {},
      "cell_type": "markdown",
      "metadata": {
        "id": "CMMDdHgyJAB1"
      },
      "source": [
        "Genome 전체로 계산하는 방법은 자원도 꽤 쓰고 시간이 걸리기 때문에 여기서는 유전자 단위로 간략하게 하도록 합시다. 예시로 Mirlet7g를 해 보고, 추가로 Mirlet7f-1과 Mirlet7d도 봐서 비교해 봅시다.\n",
        "\n",
        "논문은 예전 레퍼런스 유전체인 mm9을 쓰고 있기 때문에, 현재 사용되는 레퍼런스 mm39와는 좌표계에 차이가 있습니다. 새로 annotation에서 위치를 찾습니다."
      ]
    },
    {
      "cell_type": "code",
      "execution_count": null,
      "metadata": {
        "id": "sumX23OcI_fl"
      },
      "outputs": [],
      "source": [
        "!grep -i mirlet7g gencode.gtf"
      ]
    },
    {
      "cell_type": "code",
      "execution_count": 2,
      "metadata": {},
      "outputs": [
        {
          "name": "stdout",
          "output_type": "stream",
          "text": [
            "grep: gencode.gtf: No such file or directory\n",
            "grep: gencode.gtf: No such file or directory\n"
          ]
        }
      ],
      "source": [
        "!grep -i Mirlet7f-1 gencode.gtf\n",
        "!grep -i Mirlet7d gencode.gtf"
      ]
    },
    {
      "attachments": {},
      "cell_type": "markdown",
      "metadata": {
        "id": "iB_C8P1fJkNE"
      },
      "source": [
        "Splicing 되지 않는 transcript이기 때문에 결과가 단조롭습니다. 해당 좌표 범위로 bam을 솎아냅니다."
      ]
    },
    {
      "cell_type": "code",
      "execution_count": null,
      "metadata": {
        "id": "opqsj9vNIL-z"
      },
      "outputs": [],
      "source": [
        "!samtools view -b -o CLIP-let7g.bam CLIP-35L33G.bam chr9:106056039-106056126 # mirlet7g, 88bp임\n",
        "!samtools view CLIP-let7g.bam | wc -l # 163 bam 파일에 163개의 read가 매핑됨. 이건 좀 봐야됨"
      ]
    },
    {
      "attachments": {},
      "cell_type": "markdown",
      "metadata": {
        "id": "baEtdt6aJ12N"
      },
      "source": [
        "각 자리에 mapping된 read들의 분포를 요약하기 위해 samtools mpileup을 이용합니다. Shannon entropy를 구할 때는 reference를 따로 줄 필요는 없습니다. samtools를 쓰지 않고 직접 read를 분석하면 더욱 더 재미있습니다."
      ]
    },
    {
      "cell_type": "code",
      "execution_count": null,
      "metadata": {
        "id": "5_RLXcMpIL8J"
      },
      "outputs": [],
      "source": [
        "!samtools mpileup CLIP-let7g.bam > CLIP-let7g.pileup\n",
        "!wc -l CLIP-let7g.pileup # 68548"
      ]
    },
    {
      "attachments": {},
      "cell_type": "markdown",
      "metadata": {
        "id": "Xuzv5lSEKVoG"
      },
      "source": [
        "Mirlet7g는 100bp도 안 되는 짧은 gene인데 `mpileup` 결과는 엄청 길게 나옵니다. 왜 그럴까요? (잘 한 번 생각해 봅시다)\n",
        "<br>\n",
        "mpileup\n",
        "- Reference 기준으로 reads이 매핑된 bam file에서 `locus`에 매핑된 `nucleotides` 가 궁금할 때 사용하는 툴이다.\n",
        "- vcf file 같은 경우에는 보통 알고리즘을 사용하여 ref / alt 을 알려주기에 \n",
        "- locus 에서 nucleotide 의 비율을 알기 어렵다. 그리고 보통의 경우 알 필요도 없다.​\n",
        "- 그러나 개인의 변이 정보를 찾아보는 데 매우 효과적인 방법이다."
      ]
    },
    {
      "attachments": {},
      "cell_type": "markdown",
      "metadata": {
        "id": "hpC-bsZEKozF"
      },
      "source": [
        "이제 Mirlet7g의 핵심부분을 살펴봐서 어떻게 하면 좋을지 견적을 내 봅니다."
      ]
    },
    {
      "cell_type": "code",
      "execution_count": null,
      "metadata": {
        "id": "1WulVeZqIL5W"
      },
      "outputs": [],
      "source": [
        "!head CLIP-let7g.pileup"
      ]
    },
    {
      "cell_type": "code",
      "execution_count": 3,
      "metadata": {},
      "outputs": [],
      "source": [
        "!head CLIP-let7g.pileup 결과\n",
        "# chr9    106007092       N       9       ^Ga^Ia^Ha^Ia^Ga^Ga^Ha^Ia^Ia     <IFIGGHII\n",
        "# chr9    106007093       N       9       ggggggggg       AFGIEGDII\n",
        "# chr9    106007094       N       9       ccccccccc       EHHIGAFEH\n",
        "# chr9    106007095       N       9       aaaaaaaaa       ?HDIFA>II\n",
        "# chr9    106007096       N       9       aaaaaaaaa       EHHIG@CHH\n",
        "# chr9    106007097       N       9       ttttttttt       =HGEGDFII\n",
        "# chr9    106007098       N       9       aaaaaaaaa       ?HHIGDEII\n",
        "# chr9    106007099       N       9       g-2nng-2nng-2nng-2nng-2nng-2nng-2nng-2nng-2nn   ?IEHGEDII\n",
        "# chr9    106007100       N       9       *********       8IBIBC@EI\n",
        "# chr9    106007101       N       9       *********       8IBIBC@EI"
      ]
    },
    {
      "attachments": {},
      "cell_type": "markdown",
      "metadata": {},
      "source": [
        "mpileup 결과 보기\n",
        "1. Column 1: Chromosome name (e.g., chr9)\n",
        "2. Column 2: Genomic position (e.g., 106007092)\n",
        "3. Column 3: Reference nucleotide (N)\n",
        "4. Column 4: Total depth or coverage at that position (e.g., 9)\n",
        "5. Column 5: Nucleotide observations or sequence variations at that position (e.g., ^Ga^Ia^Ha^Ia^Ga^Ga^Ha^Ia^Ia)\n",
        "6. Column 6: Quality scores or additional information associated with the observations (e.g., <IFIGGHII)"
      ]
    },
    {
      "cell_type": "code",
      "execution_count": null,
      "metadata": {
        "id": "GUdB31wAIL0K"
      },
      "outputs": [],
      "source": [
        "!awk '$2 >= 106056039 && $2 <= 106056126 { print $0; }' CLIP-let7g.pileup > CLIP-let7g-gene.pileup\n",
        "!tail CLIP-let7g-gene.pileup\n",
        "!! wc -l CLIP-let7g-gene.pileup # 88"
      ]
    },
    {
      "attachments": {},
      "cell_type": "markdown",
      "metadata": {
        "id": "CNEWC4t_MA__"
      },
      "source": [
        "이제 pandas에 불러와서 분석해 봅니다. R을 쓰시는 분들은 R로 보내서 작업하셔도 됩니다."
      ]
    },
    {
      "cell_type": "code",
      "execution_count": 48,
      "metadata": {
        "id": "PWq1ItOxILxa"
      },
      "outputs": [
        {
          "name": "stdout",
          "output_type": "stream",
          "text": [
            "88\n"
          ]
        },
        {
          "data": {
            "text/html": [
              "<div>\n",
              "<style scoped>\n",
              "    .dataframe tbody tr th:only-of-type {\n",
              "        vertical-align: middle;\n",
              "    }\n",
              "\n",
              "    .dataframe tbody tr th {\n",
              "        vertical-align: top;\n",
              "    }\n",
              "\n",
              "    .dataframe thead th {\n",
              "        text-align: right;\n",
              "    }\n",
              "</style>\n",
              "<table border=\"1\" class=\"dataframe\">\n",
              "  <thead>\n",
              "    <tr style=\"text-align: right;\">\n",
              "      <th></th>\n",
              "      <th>chrom</th>\n",
              "      <th>pos</th>\n",
              "      <th>_ref</th>\n",
              "      <th>count</th>\n",
              "      <th>basereads</th>\n",
              "      <th>quals</th>\n",
              "    </tr>\n",
              "  </thead>\n",
              "  <tbody>\n",
              "    <tr>\n",
              "      <th>83</th>\n",
              "      <td>chr9</td>\n",
              "      <td>106056122</td>\n",
              "      <td>N</td>\n",
              "      <td>88</td>\n",
              "      <td>&lt;&lt;&lt;&lt;&lt;&lt;&lt;&lt;&lt;C$C$C$C$C$C$C$C$C$C$C$C$C$CCCCCC$C$C$...</td>\n",
              "      <td>BHEIG?DIIEEGIIC;GIHEGBIIIIB1=FII?FEIGGGHDBIG=H...</td>\n",
              "    </tr>\n",
              "    <tr>\n",
              "      <th>84</th>\n",
              "      <td>chr9</td>\n",
              "      <td>106056123</td>\n",
              "      <td>N</td>\n",
              "      <td>31</td>\n",
              "      <td>&lt;&lt;&lt;&lt;&lt;&lt;&lt;&lt;&lt;CCCCCCCCCCCCCCCCCCCCCC</td>\n",
              "      <td>BHEIG?DIIIIII&gt;GIGGIGGD&gt;BIHHHIEH</td>\n",
              "    </tr>\n",
              "    <tr>\n",
              "      <th>85</th>\n",
              "      <td>chr9</td>\n",
              "      <td>106056124</td>\n",
              "      <td>N</td>\n",
              "      <td>31</td>\n",
              "      <td>&lt;&lt;&lt;&lt;&lt;&lt;&lt;&lt;&lt;AAAAAAAAAAAAAAAAAAAAAA</td>\n",
              "      <td>BHEIG?DIIIIHIGGIGGGIG:9DDBIEGFH</td>\n",
              "    </tr>\n",
              "    <tr>\n",
              "      <th>86</th>\n",
              "      <td>chr9</td>\n",
              "      <td>106056125</td>\n",
              "      <td>N</td>\n",
              "      <td>31</td>\n",
              "      <td>&lt;&lt;&lt;&lt;&lt;&lt;&lt;&lt;&lt;GGGGGGGGGGGGGGGGGGGGGG</td>\n",
              "      <td>BHEIG?DIIIIIIGGE@GFIGD;GIGIIFHD</td>\n",
              "    </tr>\n",
              "    <tr>\n",
              "      <th>87</th>\n",
              "      <td>chr9</td>\n",
              "      <td>106056126</td>\n",
              "      <td>N</td>\n",
              "      <td>30</td>\n",
              "      <td>&lt;&lt;&lt;&lt;&lt;&lt;&lt;&lt;&lt;GGGGGGGGGGGGGGGGGGGGG</td>\n",
              "      <td>BHEIG?DIIIIGHGHIGHI&gt;G;GGGIGIHG</td>\n",
              "    </tr>\n",
              "  </tbody>\n",
              "</table>\n",
              "</div>"
            ],
            "text/plain": [
              "   chrom        pos _ref  count   \n",
              "83  chr9  106056122    N     88  \\\n",
              "84  chr9  106056123    N     31   \n",
              "85  chr9  106056124    N     31   \n",
              "86  chr9  106056125    N     31   \n",
              "87  chr9  106056126    N     30   \n",
              "\n",
              "                                            basereads   \n",
              "83  <<<<<<<<<C$C$C$C$C$C$C$C$C$C$C$C$C$CCCCCC$C$C$...  \\\n",
              "84                    <<<<<<<<<CCCCCCCCCCCCCCCCCCCCCC   \n",
              "85                    <<<<<<<<<AAAAAAAAAAAAAAAAAAAAAA   \n",
              "86                    <<<<<<<<<GGGGGGGGGGGGGGGGGGGGGG   \n",
              "87                     <<<<<<<<<GGGGGGGGGGGGGGGGGGGGG   \n",
              "\n",
              "                                                quals  \n",
              "83  BHEIG?DIIEEGIIC;GIHEGBIIIIB1=FII?FEIGGGHDBIG=H...  \n",
              "84                    BHEIG?DIIIIII>GIGGIGGD>BIHHHIEH  \n",
              "85                    BHEIG?DIIIIHIGGIGGGIG:9DDBIEGFH  \n",
              "86                    BHEIG?DIIIIIIGGE@GFIGD;GIGIIFHD  \n",
              "87                     BHEIG?DIIIIGHGHIGHI>G;GGGIGIHG  "
            ]
          },
          "execution_count": 48,
          "metadata": {},
          "output_type": "execute_result"
        }
      ],
      "source": [
        "import pandas as pd\n",
        "\n",
        "pileup = pd.read_csv('./binfo1-work/CLIP-let7g-gene.pileup', sep='\\t', names=['chrom', 'pos', '_ref', 'count', 'basereads', 'quals'])\n",
        "print(len(pileup))\n",
        "pileup.tail()"
      ]
    },
    {
      "attachments": {},
      "cell_type": "markdown",
      "metadata": {
        "id": "DOM-v48vMTQ-"
      },
      "source": [
        "여기서 pileup에서 계산에 사용할 것은 match와 substitution만입니다. 나머지에 해당하는 tag들은 제거합니다.\n",
        "\n",
        "R을 쓰시는 분들은 R로 보내서 작업하셔도 됩니다."
      ]
    },
    {
      "cell_type": "code",
      "execution_count": 49,
      "metadata": {
        "id": "qm25CsvBILug"
      },
      "outputs": [],
      "source": [
        "import re\n",
        "toremove = re.compile('[<>$*#^]')\n",
        "pileup['matches'] = pileup['basereads'].apply(lambda x: toremove.sub('', x))"
      ]
    },
    {
      "cell_type": "code",
      "execution_count": 50,
      "metadata": {},
      "outputs": [
        {
          "data": {
            "text/plain": [
              "re.compile(r'[<>$*#^]', re.UNICODE)"
            ]
          },
          "execution_count": 50,
          "metadata": {},
          "output_type": "execute_result"
        }
      ],
      "source": [
        "toremove"
      ]
    },
    {
      "cell_type": "code",
      "execution_count": 51,
      "metadata": {
        "id": "uXYF___MILrK"
      },
      "outputs": [
        {
          "data": {
            "text/html": [
              "<div>\n",
              "<style scoped>\n",
              "    .dataframe tbody tr th:only-of-type {\n",
              "        vertical-align: middle;\n",
              "    }\n",
              "\n",
              "    .dataframe tbody tr th {\n",
              "        vertical-align: top;\n",
              "    }\n",
              "\n",
              "    .dataframe thead th {\n",
              "        text-align: right;\n",
              "    }\n",
              "</style>\n",
              "<table border=\"1\" class=\"dataframe\">\n",
              "  <thead>\n",
              "    <tr style=\"text-align: right;\">\n",
              "      <th></th>\n",
              "      <th>chrom</th>\n",
              "      <th>pos</th>\n",
              "      <th>matches</th>\n",
              "    </tr>\n",
              "  </thead>\n",
              "  <tbody>\n",
              "    <tr>\n",
              "      <th>0</th>\n",
              "      <td>chr9</td>\n",
              "      <td>106056039</td>\n",
              "      <td></td>\n",
              "    </tr>\n",
              "    <tr>\n",
              "      <th>1</th>\n",
              "      <td>chr9</td>\n",
              "      <td>106056040</td>\n",
              "      <td></td>\n",
              "    </tr>\n",
              "    <tr>\n",
              "      <th>2</th>\n",
              "      <td>chr9</td>\n",
              "      <td>106056041</td>\n",
              "      <td></td>\n",
              "    </tr>\n",
              "    <tr>\n",
              "      <th>3</th>\n",
              "      <td>chr9</td>\n",
              "      <td>106056042</td>\n",
              "      <td></td>\n",
              "    </tr>\n",
              "    <tr>\n",
              "      <th>4</th>\n",
              "      <td>chr9</td>\n",
              "      <td>106056043</td>\n",
              "      <td></td>\n",
              "    </tr>\n",
              "    <tr>\n",
              "      <th>...</th>\n",
              "      <td>...</td>\n",
              "      <td>...</td>\n",
              "      <td>...</td>\n",
              "    </tr>\n",
              "    <tr>\n",
              "      <th>83</th>\n",
              "      <td>chr9</td>\n",
              "      <td>106056122</td>\n",
              "      <td>CCCCCCCCCCCCCCCCCCCCCCCCCCCCCCCCCCCCCCCCCCCCCC...</td>\n",
              "    </tr>\n",
              "    <tr>\n",
              "      <th>84</th>\n",
              "      <td>chr9</td>\n",
              "      <td>106056123</td>\n",
              "      <td>CCCCCCCCCCCCCCCCCCCCCC</td>\n",
              "    </tr>\n",
              "    <tr>\n",
              "      <th>85</th>\n",
              "      <td>chr9</td>\n",
              "      <td>106056124</td>\n",
              "      <td>AAAAAAAAAAAAAAAAAAAAAA</td>\n",
              "    </tr>\n",
              "    <tr>\n",
              "      <th>86</th>\n",
              "      <td>chr9</td>\n",
              "      <td>106056125</td>\n",
              "      <td>GGGGGGGGGGGGGGGGGGGGGG</td>\n",
              "    </tr>\n",
              "    <tr>\n",
              "      <th>87</th>\n",
              "      <td>chr9</td>\n",
              "      <td>106056126</td>\n",
              "      <td>GGGGGGGGGGGGGGGGGGGGG</td>\n",
              "    </tr>\n",
              "  </tbody>\n",
              "</table>\n",
              "<p>88 rows × 3 columns</p>\n",
              "</div>"
            ],
            "text/plain": [
              "   chrom        pos                                            matches\n",
              "0   chr9  106056039                                                   \n",
              "1   chr9  106056040                                                   \n",
              "2   chr9  106056041                                                   \n",
              "3   chr9  106056042                                                   \n",
              "4   chr9  106056043                                                   \n",
              "..   ...        ...                                                ...\n",
              "83  chr9  106056122  CCCCCCCCCCCCCCCCCCCCCCCCCCCCCCCCCCCCCCCCCCCCCC...\n",
              "84  chr9  106056123                             CCCCCCCCCCCCCCCCCCCCCC\n",
              "85  chr9  106056124                             AAAAAAAAAAAAAAAAAAAAAA\n",
              "86  chr9  106056125                             GGGGGGGGGGGGGGGGGGGGGG\n",
              "87  chr9  106056126                              GGGGGGGGGGGGGGGGGGGGG\n",
              "\n",
              "[88 rows x 3 columns]"
            ]
          },
          "execution_count": 51,
          "metadata": {},
          "output_type": "execute_result"
        }
      ],
      "source": [
        "pileup[['chrom', 'pos', 'matches']]"
      ]
    },
    {
      "cell_type": "code",
      "execution_count": 52,
      "metadata": {},
      "outputs": [
        {
          "data": {
            "text/html": [
              "<div>\n",
              "<style scoped>\n",
              "    .dataframe tbody tr th:only-of-type {\n",
              "        vertical-align: middle;\n",
              "    }\n",
              "\n",
              "    .dataframe tbody tr th {\n",
              "        vertical-align: top;\n",
              "    }\n",
              "\n",
              "    .dataframe thead th {\n",
              "        text-align: right;\n",
              "    }\n",
              "</style>\n",
              "<table border=\"1\" class=\"dataframe\">\n",
              "  <thead>\n",
              "    <tr style=\"text-align: right;\">\n",
              "      <th></th>\n",
              "      <th>chrom</th>\n",
              "      <th>pos</th>\n",
              "      <th>_ref</th>\n",
              "      <th>count</th>\n",
              "      <th>basereads</th>\n",
              "      <th>quals</th>\n",
              "      <th>matches</th>\n",
              "    </tr>\n",
              "  </thead>\n",
              "  <tbody>\n",
              "    <tr>\n",
              "      <th>55</th>\n",
              "      <td>chr9</td>\n",
              "      <td>106056094</td>\n",
              "      <td>N</td>\n",
              "      <td>126</td>\n",
              "      <td>&lt;&lt;&lt;&lt;&lt;&lt;&lt;&lt;&lt;GGGGGGAAAAAAAAGGGGGAAAAAAGCCGCAGGATGA...</td>\n",
              "      <td>BHEIG?DIIDIEHHCGHGIIEEHIHHGHIIIIG:AGGDH=HHIIII...</td>\n",
              "      <td>GGGGGGAAAAAAAAGGGGGAAAAAAGCCGCAGGATGAGGTGATAAG...</td>\n",
              "    </tr>\n",
              "  </tbody>\n",
              "</table>\n",
              "</div>"
            ],
            "text/plain": [
              "   chrom        pos _ref  count   \n",
              "55  chr9  106056094    N    126  \\\n",
              "\n",
              "                                            basereads   \n",
              "55  <<<<<<<<<GGGGGGAAAAAAAAGGGGGAAAAAAGCCGCAGGATGA...  \\\n",
              "\n",
              "                                                quals   \n",
              "55  BHEIG?DIIDIEHHCGHGIIEEHIHHGHIIIIG:AGGDH=HHIIII...  \\\n",
              "\n",
              "                                              matches  \n",
              "55  GGGGGGAAAAAAAAGGGGGAAAAAAGCCGCAGGATGAGGTGATAAG...  "
            ]
          },
          "execution_count": 52,
          "metadata": {},
          "output_type": "execute_result"
        }
      ],
      "source": [
        "pileup[pileup['pos'] == 106056094]"
      ]
    },
    {
      "cell_type": "code",
      "execution_count": 53,
      "metadata": {
        "id": "k55NUm9OILhw"
      },
      "outputs": [
        {
          "data": {
            "text/plain": [
              "'GGGGGGAAAAAAAAGGGGGAAAAAAGCCGCAGGATGAGGTGATAAGGGAGGGGTGAAGGGCGGTGAAGGGGAAAAGAGAAAGAAAAATAAAGGGGGAGTGGGAGGAAGAAGAGAATA'"
            ]
          },
          "execution_count": 53,
          "metadata": {},
          "output_type": "execute_result"
        }
      ],
      "source": [
        "pileup[pileup['pos'] == 106056094].iloc[0]['matches']"
      ]
    },
    {
      "attachments": {},
      "cell_type": "markdown",
      "metadata": {
        "id": "NrgJiS2iRhIn"
      },
      "source": [
        "자 이제 데이터 준비가 대충 끝났습니다. 다음 순서로 진행해 보세요. (1-4번 단계는 R을 쓰시는 분들은 R로 보내서 작업하셔도 됩니다.)\n",
        "\n",
        "1. 각 position별로 base수를 셉니다.\n",
        "1. 각 position별로 Shannon entropy를 계산합니다.\n",
        "1. 계산한 Shannon entropy를 [bedgraph format](https://genome.ucsc.edu/goldenPath/help/bedgraph.html)으로 출력합니다. 말은 복잡해도 실제로는 간단합니다. 4칸짜리를 만드시면 됩니다.\n",
        "1. 결과 파일을 본인의 Google Drive에서 가져옵니다.\n",
        "1. [UCSC Genome Browser](http://genome.ucsc.edu/cgi-bin/hgTracks?db=mm39&lastVirtModeType=default&lastVirtModeExtraState=&virtModeType=default&virtMode=0&nonVirtPosition=&position=chr9%3A106056039-106056126)에 접속해서 Genome은 mm39로 선택합니다.\n",
        "1. 그래프 아랫쪽의 add custom tracks 버튼을 누릅니다.\n",
        "1. Paste URLs or data 옆의 Choose File 버튼을 누르고 우리가 만든 bedgraph 파일을 업로드 합니다.\n",
        "1. 그리고 이리 저리 감상해 보다가 View 메뉴의 PDF/PS 를 눌러서 인증샷을 한 번 찍습니다.\n",
        "1. Mirlet7d와 Mirlet7f-1도 한 번 해 봅니다."
      ]
    },
    {
      "cell_type": "code",
      "execution_count": 54,
      "metadata": {},
      "outputs": [],
      "source": [
        "from pyentrp import entropy as ent\n",
        "pileup['entropy'] = pileup['matches'].apply(lambda x: ent.shannon_entropy(x))"
      ]
    },
    {
      "cell_type": "code",
      "execution_count": 55,
      "metadata": {},
      "outputs": [
        {
          "data": {
            "text/plain": [
              "<Axes: >"
            ]
          },
          "execution_count": 55,
          "metadata": {},
          "output_type": "execute_result"
        },
        {
          "data": {
            "image/png": "[encoded data removed]",
            "text/plain": [
              "<Figure size 640x480 with 1 Axes>"
            ]
          },
          "metadata": {},
          "output_type": "display_data"
        }
      ],
      "source": [
        "pileup\n",
        "pileup['entropy'].hist()"
      ]
    },
    {
      "cell_type": "code",
      "execution_count": 57,
      "metadata": {},
      "outputs": [
        {
          "name": "stderr",
          "output_type": "stream",
          "text": [
            "/tmp/ipykernel_27546/2678903093.py:2: SettingWithCopyWarning: \n",
            "A value is trying to be set on a copy of a slice from a DataFrame.\n",
            "Try using .loc[row_indexer,col_indexer] = value instead\n",
            "\n",
            "See the caveats in the documentation: https://pandas.pydata.org/pandas-docs/stable/user_guide/indexing.html#returning-a-view-versus-a-copy\n",
            "  tmp['pos_1'] = tmp['pos'] +1\n"
          ]
        }
      ],
      "source": [
        "tmp = pileup[['chrom', 'pos', 'entropy']]\n",
        "tmp['pos_1'] = tmp['pos'] +1 \n",
        "tmp = tmp[['chrom', 'pos', 'pos_1', 'entropy']]\n",
        "tmp.to_csv('./genome/CLIP-let7g-gene.entropy.bed', sep='\\t', index=False, header=False)\n",
        "with open('./genome/CLIP-let7g-gene.entropy.bed', 'r') as file:\n",
        "    contents = file.read()\n",
        "with open('./genome/CLIP-let7g-gene.entropy.bed', 'w') as file:\n",
        "    file.write('track type=bedGraph name=\"BedGraph Format\" description=\"BedGraph format\" visibility=full color=200,100,0 altColor=0,100,200 priority=20\\n')\n",
        "    file.write(contents)\n"
      ]
    },
    {
      "cell_type": "code",
      "execution_count": null,
      "metadata": {},
      "outputs": [],
      "source": []
    },
    {
      "attachments": {},
      "cell_type": "markdown",
      "metadata": {},
      "source": [
        "# Mirlet7d"
      ]
    },
    {
      "cell_type": "code",
      "execution_count": 58,
      "metadata": {},
      "outputs": [
        {
          "name": "stdout",
          "output_type": "stream",
          "text": [
            "grep: gencode.gtf: No such file or directory\n",
            "grep: gencode.gtf: No such file or directory\n"
          ]
        }
      ],
      "source": [
        "# !grep -i Mirlet7f-1 gencode.gtf\n",
        "!grep -i Mirlet7d gencode.gtf\n",
        "# !samtools view -b -o CLIP-let7d.bam CLIP-35L33G.bam chr9:106056039-106056126 # mirlet7d, 88bp임\n",
        "!samtools view -b -o CLIP-let7d.bam CLIP-35L33G.bam chr13:48689488-48689590 # mirlet7d, 88bp임\n",
        "!samtools view CLIP-let7d.bam | wc -l # 187 bam 파일에 187 개의 read가 매핑됨. 이건 좀 봐야됨\n",
        "!samtools mpileup CLIP-let7d.bam > CLIP-let7d.pileup\n",
        "!wc -l CLIP-let7d.pileup # 87\n",
        "!head CLIP-let7d.pileup\n",
        "!awk '$2 >= 48689488 && $2 <= 48689590 { print $0; }' CLIP-let7d.pileup > CLIP-let7d-gene.pileup\n",
        "!tail CLIP-let7d-gene.pileup\n",
        "!! wc -l CLIP-let7d-gene.pileup # 87\n",
        "!! samtools view -b CLIP-let7d.bam | bamToBed -i - > CLIP-let7d.bed"
      ]
    },
    {
      "cell_type": "code",
      "execution_count": null,
      "metadata": {},
      "outputs": [],
      "source": [
        "# sort & index\n",
        "!samtools sort CLIP-let7d.bam > CLIP-let7d.sorted.bam\n",
        "!samtools index CLIP-let7d.sorted.bam > CLIP-let7d.sorted.bam.bai"
      ]
    },
    {
      "cell_type": "code",
      "execution_count": 1,
      "metadata": {},
      "outputs": [
        {
          "name": "stdout",
          "output_type": "stream",
          "text": [
            "87\n"
          ]
        },
        {
          "name": "stderr",
          "output_type": "stream",
          "text": [
            "/tmp/ipykernel_19442/4244931761.py:20: SettingWithCopyWarning: \n",
            "A value is trying to be set on a copy of a slice from a DataFrame.\n",
            "Try using .loc[row_indexer,col_indexer] = value instead\n",
            "\n",
            "See the caveats in the documentation: https://pandas.pydata.org/pandas-docs/stable/user_guide/indexing.html#returning-a-view-versus-a-copy\n",
            "  tmp['pos_1'] = tmp['pos'] +1\n"
          ]
        }
      ],
      "source": [
        "import pandas as pd\n",
        "\n",
        "pileup = pd.read_csv('./binfo1-work/CLIP-let7d-gene.pileup', sep='\\t', names=['chrom', 'pos', '_ref', 'count', 'basereads', 'quals'])\n",
        "print(len(pileup))\n",
        "pileup.tail()\n",
        "\n",
        "import re\n",
        "toremove = re.compile('[<>$*#^]')\n",
        "pileup['matches_0'] = pileup['basereads'].apply(lambda x: toremove.sub('', x))\n",
        "\n",
        "toremove = re.compile('[^agct]')\n",
        "pileup['matches'] = pileup['basereads'].apply(lambda x: toremove.sub('', x))\n",
        "\n",
        "\n",
        "\n",
        "from pyentrp import entropy as ent\n",
        "pileup['entropy'] = pileup['matches'].apply(lambda x: ent.shannon_entropy(x))\n",
        "\n",
        "tmp = pileup[['chrom', 'pos', 'entropy']]\n",
        "tmp['pos_1'] = tmp['pos'] +1 \n",
        "tmp = tmp[['chrom', 'pos', 'pos_1', 'entropy']]\n",
        "tmp.to_csv('./genome/CLIP-let7d-gene.entropy.bed', sep='\\t', index=False, header=False)\n",
        "with open('./genome/CLIP-let7d-gene.entropy.bed', 'r') as file:\n",
        "    contents = file.read()\n",
        "with open('./genome/CLIP-let7d-gene.entropy.bed', 'w') as file:\n",
        "    file.write('track type=bedGraph name=\"BedGraph Format\" description=\"BedGraph format\" visibility=full color=200,100,0 altColor=0,100,200 priority=20\\n')\n",
        "    file.write(contents)\n",
        "\n"
      ]
    },
    {
      "cell_type": "code",
      "execution_count": 68,
      "metadata": {},
      "outputs": [
        {
          "data": {
            "text/plain": [
              "'aaaaaaaaaaaaaaaaaaaaaaaaaaaaaaaaaaaaaaaaaaaaaaaaaaaaaaaaaaaaaaaaaaaaaaaaaaaaaaaaaaaaaaaaaaaaaaaaaaaaaaaaa'"
            ]
          },
          "execution_count": 68,
          "metadata": {},
          "output_type": "execute_result"
        }
      ],
      "source": [
        "pileup['matches'].iloc[3]\n",
        "# pileup"
      ]
    },
    {
      "cell_type": "code",
      "execution_count": null,
      "metadata": {},
      "outputs": [],
      "source": []
    },
    {
      "attachments": {},
      "cell_type": "markdown",
      "metadata": {},
      "source": [
        "# Mirlet7d_논문"
      ]
    },
    {
      "cell_type": "code",
      "execution_count": null,
      "metadata": {},
      "outputs": [
        {
          "name": "stdout",
          "output_type": "stream",
          "text": [
            "grep: gencode.gtf: No such file or directory\n",
            "grep: gencode.gtf: No such file or directory\n"
          ]
        }
      ],
      "source": [
        "# !grep -i Mirlet7f-1 gencode.gtf\n",
        "!grep -i Mirlet7d gencode.gtf\n",
        "# !samtools view -b -o CLIP-let7d-00.bam CLIP-35L33G.bam chr9:106056039-106056126 # mirlet7d, 88bp임\n",
        "!samtools view -b -o CLIP-let7d-00.bam CLIP-35L33G.bam chr13:48631370-48631460 # mirlet7d-00, 88bp임\n",
        "!samtools view CLIP-let7d-00.bam | wc -l # 187 bam 파일에 187 개의 read가 매핑됨. 이건 좀 봐야됨\n",
        "!samtools mpileup CLIP-let7d-00.bam > CLIP-let7d-00.pileup\n",
        "!wc -l CLIP-let7d-00.pileup # 87\n",
        "!head CLIP-let7d-00.pileup\n",
        "!awk '$2 >= 48631370 && $2 <= 48631460 { print $0; }' CLIP-let7d-00.pileup > CLIP-let7d-00-gene.pileup\n",
        "!tail CLIP-let7d-00-gene.pileup\n",
        "!! wc -l CLIP-let7d-00-gene.pileup # 87"
      ]
    },
    {
      "cell_type": "code",
      "execution_count": 2,
      "metadata": {},
      "outputs": [
        {
          "name": "stdout",
          "output_type": "stream",
          "text": [
            "87\n"
          ]
        },
        {
          "name": "stderr",
          "output_type": "stream",
          "text": [
            "/tmp/ipykernel_19442/4244931761.py:20: SettingWithCopyWarning: \n",
            "A value is trying to be set on a copy of a slice from a DataFrame.\n",
            "Try using .loc[row_indexer,col_indexer] = value instead\n",
            "\n",
            "See the caveats in the documentation: https://pandas.pydata.org/pandas-docs/stable/user_guide/indexing.html#returning-a-view-versus-a-copy\n",
            "  tmp['pos_1'] = tmp['pos'] +1\n"
          ]
        }
      ],
      "source": [
        "import pandas as pd\n",
        "\n",
        "pileup = pd.read_csv('./binfo1-work/CLIP-let7d-gene.pileup', sep='\\t', names=['chrom', 'pos', '_ref', 'count', 'basereads', 'quals'])\n",
        "print(len(pileup))\n",
        "pileup.tail()\n",
        "\n",
        "import re\n",
        "toremove = re.compile('[<>$*#^]')\n",
        "pileup['matches_0'] = pileup['basereads'].apply(lambda x: toremove.sub('', x))\n",
        "\n",
        "toremove = re.compile('[^agct]')\n",
        "pileup['matches'] = pileup['basereads'].apply(lambda x: toremove.sub('', x))\n",
        "\n",
        "\n",
        "\n",
        "from pyentrp import entropy as ent\n",
        "pileup['entropy'] = pileup['matches'].apply(lambda x: ent.shannon_entropy(x))\n",
        "\n",
        "tmp = pileup[['chrom', 'pos', 'entropy']]\n",
        "tmp['pos_1'] = tmp['pos'] +1 \n",
        "tmp = tmp[['chrom', 'pos', 'pos_1', 'entropy']]\n",
        "tmp.to_csv('./genome/CLIP-let7d-gene.entropy.bed', sep='\\t', index=False, header=False)\n",
        "with open('./genome/CLIP-let7d-gene.entropy.bed', 'r') as file:\n",
        "    contents = file.read()\n",
        "with open('./genome/CLIP-let7d-gene.entropy.bed', 'w') as file:\n",
        "    file.write('track type=bedGraph name=\"BedGraph Format\" description=\"BedGraph format\" visibility=full color=200,100,0 altColor=0,100,200 priority=20\\n')\n",
        "    file.write(contents)\n",
        "\n"
      ]
    },
    {
      "cell_type": "code",
      "execution_count": null,
      "metadata": {},
      "outputs": [],
      "source": []
    },
    {
      "attachments": {},
      "cell_type": "markdown",
      "metadata": {},
      "source": [
        "# Mirlet7f-1\n",
        "- 안나옴...."
      ]
    },
    {
      "cell_type": "code",
      "execution_count": null,
      "metadata": {},
      "outputs": [
        {
          "name": "stdout",
          "output_type": "stream",
          "text": [
            "grep: gencode.gtf: No such file or directory\n",
            "grep: gencode.gtf: No such file or directory\n"
          ]
        }
      ],
      "source": [
        "!grep -i Mirlet7f-1 gencode.gtf\n",
        "!samtools view -b -o CLIP-let7f-1.bam CLIP-35L33G.bam chr13:48691305-48689590 # mirlet7f-1, 88bp임\n",
        "!samtools view CLIP-let7f-1.bam | wc -l # 187 bam 파일에 187 개의 read가 매핑됨. 이건 좀 봐야됨\n",
        "!samtools mpileup CLIP-let7f-1.bam > CLIP-let7f-1.pileup\n",
        "!wc -l CLIP-let7f-1.pileup # 87\n",
        "!head CLIP-let7f-1.pileup\n",
        "!awk '$2 >= 48691305 && $2 <= 48689590 { print $0; }' CLIP-let7f-1.pileup > CLIP-let7f-1-gene.pileup\n",
        "!tail CLIP-let7f-1-gene.pileup\n",
        "!! wc -l CLIP-let7f-1-gene.pileup # 87"
      ]
    },
    {
      "cell_type": "code",
      "execution_count": null,
      "metadata": {},
      "outputs": [
        {
          "name": "stdout",
          "output_type": "stream",
          "text": [
            "87\n"
          ]
        },
        {
          "name": "stderr",
          "output_type": "stream",
          "text": [
            "/tmp/ipykernel_27546/4244931761.py:20: SettingWithCopyWarning: \n",
            "A value is trying to be set on a copy of a slice from a DataFrame.\n",
            "Try using .loc[row_indexer,col_indexer] = value instead\n",
            "\n",
            "See the caveats in the documentation: https://pandas.pydata.org/pandas-docs/stable/user_guide/indexing.html#returning-a-view-versus-a-copy\n",
            "  tmp['pos_1'] = tmp['pos'] +1\n"
          ]
        }
      ],
      "source": [
        "import pandas as pd\n",
        "\n",
        "pileup = pd.read_csv('./binfo1-work/CLIP-let7d-gene.pileup', sep='\\t', names=['chrom', 'pos', '_ref', 'count', 'basereads', 'quals'])\n",
        "print(len(pileup))\n",
        "pileup.tail()\n",
        "\n",
        "import re\n",
        "toremove = re.compile('[<>$*#^]')\n",
        "pileup['matches_0'] = pileup['basereads'].apply(lambda x: toremove.sub('', x))\n",
        "\n",
        "toremove = re.compile('[^agct]')\n",
        "pileup['matches'] = pileup['basereads'].apply(lambda x: toremove.sub('', x))\n",
        "\n",
        "\n",
        "\n",
        "from pyentrp import entropy as ent\n",
        "pileup['entropy'] = pileup['matches'].apply(lambda x: ent.shannon_entropy(x))\n",
        "\n",
        "tmp = pileup[['chrom', 'pos', 'entropy']]\n",
        "tmp['pos_1'] = tmp['pos'] +1 \n",
        "tmp = tmp[['chrom', 'pos', 'pos_1', 'entropy']]\n",
        "tmp.to_csv('./genome/CLIP-let7d-gene.entropy.bed', sep='\\t', index=False, header=False)\n",
        "with open('./genome/CLIP-let7d-gene.entropy.bed', 'r') as file:\n",
        "    contents = file.read()\n",
        "with open('./genome/CLIP-let7d-gene.entropy.bed', 'w') as file:\n",
        "    file.write('track type=bedGraph name=\"BedGraph Format\" description=\"BedGraph format\" visibility=full color=200,100,0 altColor=0,100,200 priority=20\\n')\n",
        "    file.write(contents)\n",
        "\n"
      ]
    },
    {
      "attachments": {},
      "cell_type": "markdown",
      "metadata": {},
      "source": [
        "# Error Frequency"
      ]
    },
    {
      "cell_type": "code",
      "execution_count": 3,
      "metadata": {},
      "outputs": [
        {
          "ename": "ValueError",
          "evalue": "x and y must have same first dimension, but have shapes (20,) and (1,)",
          "output_type": "error",
          "traceback": [
            "\u001b[0;31m---------------------------------------------------------------------------\u001b[0m",
            "\u001b[0;31mValueError\u001b[0m                                Traceback (most recent call last)",
            "Cell \u001b[0;32mIn[3], line 10\u001b[0m\n\u001b[1;32m      7\u001b[0m position_bins \u001b[39m=\u001b[39m \u001b[39mrange\u001b[39m(\u001b[39m1\u001b[39m, \u001b[39m21\u001b[39m)  \u001b[39m# Adjust the range as per your partitioning\u001b[39;00m\n\u001b[1;32m      9\u001b[0m \u001b[39m# Create the plot\u001b[39;00m\n\u001b[0;32m---> 10\u001b[0m plt\u001b[39m.\u001b[39;49mplot(position_bins, error_frequencies, marker\u001b[39m=\u001b[39;49m\u001b[39m'\u001b[39;49m\u001b[39mo\u001b[39;49m\u001b[39m'\u001b[39;49m)\n\u001b[1;32m     11\u001b[0m plt\u001b[39m.\u001b[39mxlabel(\u001b[39m'\u001b[39m\u001b[39mPosition Bins\u001b[39m\u001b[39m'\u001b[39m)\n\u001b[1;32m     12\u001b[0m plt\u001b[39m.\u001b[39mylabel(\u001b[39m'\u001b[39m\u001b[39mError Frequency\u001b[39m\u001b[39m'\u001b[39m)\n",
            "File \u001b[0;32m~/.conda/envs/bioinfo/lib/python3.10/site-packages/matplotlib/pyplot.py:2812\u001b[0m, in \u001b[0;36mplot\u001b[0;34m(scalex, scaley, data, *args, **kwargs)\u001b[0m\n\u001b[1;32m   2810\u001b[0m \u001b[39m@_copy_docstring_and_deprecators\u001b[39m(Axes\u001b[39m.\u001b[39mplot)\n\u001b[1;32m   2811\u001b[0m \u001b[39mdef\u001b[39;00m \u001b[39mplot\u001b[39m(\u001b[39m*\u001b[39margs, scalex\u001b[39m=\u001b[39m\u001b[39mTrue\u001b[39;00m, scaley\u001b[39m=\u001b[39m\u001b[39mTrue\u001b[39;00m, data\u001b[39m=\u001b[39m\u001b[39mNone\u001b[39;00m, \u001b[39m*\u001b[39m\u001b[39m*\u001b[39mkwargs):\n\u001b[0;32m-> 2812\u001b[0m     \u001b[39mreturn\u001b[39;00m gca()\u001b[39m.\u001b[39;49mplot(\n\u001b[1;32m   2813\u001b[0m         \u001b[39m*\u001b[39;49margs, scalex\u001b[39m=\u001b[39;49mscalex, scaley\u001b[39m=\u001b[39;49mscaley,\n\u001b[1;32m   2814\u001b[0m         \u001b[39m*\u001b[39;49m\u001b[39m*\u001b[39;49m({\u001b[39m\"\u001b[39;49m\u001b[39mdata\u001b[39;49m\u001b[39m\"\u001b[39;49m: data} \u001b[39mif\u001b[39;49;00m data \u001b[39mis\u001b[39;49;00m \u001b[39mnot\u001b[39;49;00m \u001b[39mNone\u001b[39;49;00m \u001b[39melse\u001b[39;49;00m {}), \u001b[39m*\u001b[39;49m\u001b[39m*\u001b[39;49mkwargs)\n",
            "File \u001b[0;32m~/.conda/envs/bioinfo/lib/python3.10/site-packages/matplotlib/axes/_axes.py:1688\u001b[0m, in \u001b[0;36mAxes.plot\u001b[0;34m(self, scalex, scaley, data, *args, **kwargs)\u001b[0m\n\u001b[1;32m   1445\u001b[0m \u001b[39m\u001b[39m\u001b[39m\"\"\"\u001b[39;00m\n\u001b[1;32m   1446\u001b[0m \u001b[39mPlot y versus x as lines and/or markers.\u001b[39;00m\n\u001b[1;32m   1447\u001b[0m \n\u001b[0;32m   (...)\u001b[0m\n\u001b[1;32m   1685\u001b[0m \u001b[39m(``'green'``) or hex strings (``'#008000'``).\u001b[39;00m\n\u001b[1;32m   1686\u001b[0m \u001b[39m\"\"\"\u001b[39;00m\n\u001b[1;32m   1687\u001b[0m kwargs \u001b[39m=\u001b[39m cbook\u001b[39m.\u001b[39mnormalize_kwargs(kwargs, mlines\u001b[39m.\u001b[39mLine2D)\n\u001b[0;32m-> 1688\u001b[0m lines \u001b[39m=\u001b[39m [\u001b[39m*\u001b[39m\u001b[39mself\u001b[39m\u001b[39m.\u001b[39m_get_lines(\u001b[39m*\u001b[39margs, data\u001b[39m=\u001b[39mdata, \u001b[39m*\u001b[39m\u001b[39m*\u001b[39mkwargs)]\n\u001b[1;32m   1689\u001b[0m \u001b[39mfor\u001b[39;00m line \u001b[39min\u001b[39;00m lines:\n\u001b[1;32m   1690\u001b[0m     \u001b[39mself\u001b[39m\u001b[39m.\u001b[39madd_line(line)\n",
            "File \u001b[0;32m~/.conda/envs/bioinfo/lib/python3.10/site-packages/matplotlib/axes/_base.py:311\u001b[0m, in \u001b[0;36m_process_plot_var_args.__call__\u001b[0;34m(self, data, *args, **kwargs)\u001b[0m\n\u001b[1;32m    309\u001b[0m     this \u001b[39m+\u001b[39m\u001b[39m=\u001b[39m args[\u001b[39m0\u001b[39m],\n\u001b[1;32m    310\u001b[0m     args \u001b[39m=\u001b[39m args[\u001b[39m1\u001b[39m:]\n\u001b[0;32m--> 311\u001b[0m \u001b[39myield from\u001b[39;00m \u001b[39mself\u001b[39;49m\u001b[39m.\u001b[39;49m_plot_args(\n\u001b[1;32m    312\u001b[0m     this, kwargs, ambiguous_fmt_datakey\u001b[39m=\u001b[39;49mambiguous_fmt_datakey)\n",
            "File \u001b[0;32m~/.conda/envs/bioinfo/lib/python3.10/site-packages/matplotlib/axes/_base.py:504\u001b[0m, in \u001b[0;36m_process_plot_var_args._plot_args\u001b[0;34m(self, tup, kwargs, return_kwargs, ambiguous_fmt_datakey)\u001b[0m\n\u001b[1;32m    501\u001b[0m     \u001b[39mself\u001b[39m\u001b[39m.\u001b[39maxes\u001b[39m.\u001b[39myaxis\u001b[39m.\u001b[39mupdate_units(y)\n\u001b[1;32m    503\u001b[0m \u001b[39mif\u001b[39;00m x\u001b[39m.\u001b[39mshape[\u001b[39m0\u001b[39m] \u001b[39m!=\u001b[39m y\u001b[39m.\u001b[39mshape[\u001b[39m0\u001b[39m]:\n\u001b[0;32m--> 504\u001b[0m     \u001b[39mraise\u001b[39;00m \u001b[39mValueError\u001b[39;00m(\u001b[39mf\u001b[39m\u001b[39m\"\u001b[39m\u001b[39mx and y must have same first dimension, but \u001b[39m\u001b[39m\"\u001b[39m\n\u001b[1;32m    505\u001b[0m                      \u001b[39mf\u001b[39m\u001b[39m\"\u001b[39m\u001b[39mhave shapes \u001b[39m\u001b[39m{\u001b[39;00mx\u001b[39m.\u001b[39mshape\u001b[39m}\u001b[39;00m\u001b[39m and \u001b[39m\u001b[39m{\u001b[39;00my\u001b[39m.\u001b[39mshape\u001b[39m}\u001b[39;00m\u001b[39m\"\u001b[39m)\n\u001b[1;32m    506\u001b[0m \u001b[39mif\u001b[39;00m x\u001b[39m.\u001b[39mndim \u001b[39m>\u001b[39m \u001b[39m2\u001b[39m \u001b[39mor\u001b[39;00m y\u001b[39m.\u001b[39mndim \u001b[39m>\u001b[39m \u001b[39m2\u001b[39m:\n\u001b[1;32m    507\u001b[0m     \u001b[39mraise\u001b[39;00m \u001b[39mValueError\u001b[39;00m(\u001b[39mf\u001b[39m\u001b[39m\"\u001b[39m\u001b[39mx and y can be no greater than 2D, but have \u001b[39m\u001b[39m\"\u001b[39m\n\u001b[1;32m    508\u001b[0m                      \u001b[39mf\u001b[39m\u001b[39m\"\u001b[39m\u001b[39mshapes \u001b[39m\u001b[39m{\u001b[39;00mx\u001b[39m.\u001b[39mshape\u001b[39m}\u001b[39;00m\u001b[39m and \u001b[39m\u001b[39m{\u001b[39;00my\u001b[39m.\u001b[39mshape\u001b[39m}\u001b[39;00m\u001b[39m\"\u001b[39m)\n",
            "\u001b[0;31mValueError\u001b[0m: x and y must have same first dimension, but have shapes (20,) and (1,)"
          ]
        },
        {
          "data": {
            "image/png": "[encoded data removed]",
            "text/plain": [
              "<Figure size 640x480 with 1 Axes>"
            ]
          },
          "metadata": {},
          "output_type": "display_data"
        }
      ],
      "source": [
        "import matplotlib.pyplot as plt\n",
        "\n",
        "# Assuming you have the error frequencies for each position bin stored in a list or array called 'error_frequencies'\n",
        "error_frequencies = [...]  # Replace [...] with your actual error frequency data\n",
        "\n",
        "# Set the position bins\n",
        "position_bins = range(1, 21)  # Adjust the range as per your partitioning\n",
        "\n",
        "# Create the plot\n",
        "plt.plot(position_bins, error_frequencies, marker='o')\n",
        "plt.xlabel('Position Bins')\n",
        "plt.ylabel('Error Frequency')\n",
        "plt.title('Error Frequency Profiles along CLIP Tags')\n",
        "plt.grid(True)\n",
        "plt.show()\n"
      ]
    },
    {
      "cell_type": "code",
      "execution_count": null,
      "metadata": {},
      "outputs": [],
      "source": []
    }
  ],
  "metadata": {
    "colab": {
      "provenance": []
    },
    "kernelspec": {
      "display_name": "Python 3",
      "name": "python3"
    },
    "language_info": {
      "codemirror_mode": {
        "name": "ipython",
        "version": 3
      },
      "file_extension": ".py",
      "mimetype": "text/x-python",
      "name": "python",
      "nbconvert_exporter": "python",
      "pygments_lexer": "ipython3",
      "version": "3.10.11"
    }
  },
  "nbformat": 4,
  "nbformat_minor": 0
}
